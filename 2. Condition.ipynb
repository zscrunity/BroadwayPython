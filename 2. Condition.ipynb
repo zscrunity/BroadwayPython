{
 "cells": [
  {
   "cell_type": "code",
   "execution_count": 1,
   "id": "88328e85",
   "metadata": {},
   "outputs": [],
   "source": [
    "# if <condition> :\n",
    "#     <operation>\n",
    "# elif <condition> :\n",
    "#     <operation>\n",
    "# ...\n",
    "# else:\n",
    "#     <operation>"
   ]
  },
  {
   "cell_type": "code",
   "execution_count": 2,
   "id": "472d3281",
   "metadata": {},
   "outputs": [],
   "source": [
    "# < > <= >= == !="
   ]
  },
  {
   "cell_type": "code",
   "execution_count": 6,
   "id": "860de50c",
   "metadata": {},
   "outputs": [
    {
     "name": "stdout",
     "output_type": "stream",
     "text": [
      "Enter age = 18\n",
      "The age is equal or greater than 18\n"
     ]
    }
   ],
   "source": [
    "age = int(input(\"Enter age = \"))\n",
    "\n",
    "if age >= 18:\n",
    "    print(\"The age is equal or greater than 18\")\n",
    "else:\n",
    "    print(\"The age is smaller than 18\")"
   ]
  },
  {
   "cell_type": "code",
   "execution_count": 13,
   "id": "022cb898",
   "metadata": {},
   "outputs": [
    {
     "name": "stdout",
     "output_type": "stream",
     "text": [
      "Enter the value of a: 5\n",
      "\"a\" is an odd number\n"
     ]
    }
   ],
   "source": [
    "a = int(input(\"Enter the value of a: \"))\n",
    "\n",
    "if a % 2 == 0:\n",
    "    print(\"a is an even number\")\n",
    "else:\n",
    "    print('a is an odd number')"
   ]
  },
  {
   "cell_type": "code",
   "execution_count": 17,
   "id": "93970d46",
   "metadata": {},
   "outputs": [
    {
     "name": "stdout",
     "output_type": "stream",
     "text": [
      "Enter a = 5\n",
      "Enter b = 5\n",
      "Both are equal\n"
     ]
    }
   ],
   "source": [
    "a = int(input(\"Enter a = \"))\n",
    "b = int(input(\"Enter b = \"))\n",
    "\n",
    "if a > b:\n",
    "    print(a , \" is greater\")\n",
    "elif b > a:\n",
    "    print(b , \" is greater\")\n",
    "else:\n",
    "    print(\"Both are equal\")"
   ]
  },
  {
   "cell_type": "code",
   "execution_count": 25,
   "id": "8a0eef7e",
   "metadata": {},
   "outputs": [
    {
     "name": "stdout",
     "output_type": "stream",
     "text": [
      "Enter the marks of Mathematics: 92\n",
      "Enter the marks of Physics: 45\n",
      "Enter the marks of Chemistry: 35\n",
      "Enter the marks of Biology: 66\n",
      "Enter the marks of English: 81\n",
      "Congratulations! You have achieved First Division. You achieved  63.8 %.\n"
     ]
    }
   ],
   "source": [
    "maths = int(input(\"Enter the marks of Mathematics: \"))\n",
    "phy = int(input(\"Enter the marks of Physics: \"))\n",
    "che = int(input(\"Enter the marks of Chemistry: \"))\n",
    "bio = int(input(\"Enter the marks of Biology: \"))\n",
    "eng = int(input(\"Enter the marks of English: \"))\n",
    "\n",
    "per = ( maths + phy + che + bio + eng )/5\n",
    "\n",
    "if per >= 80:\n",
    "    print(\"Congratulations! You have achieved Distinction. You achieved \" , per , \"%.\")\n",
    "elif 60 <= per < 80:\n",
    "    print(\"Congratulations! You have achieved First Division. You achieved \" , per , \"%.\")\n",
    "elif 50 <= per < 60:\n",
    "    print(\"Congratulations! You have achieved Second Division. You achieved \" , per , \"%.\")    \n",
    "elif 40 <= per < 50:\n",
    "    print(\"Congratulations! You have achieved Third Division. You achieved \" , per , \"%.\")    \n",
    "else:\n",
    "    print(\"You have failed.\")    "
   ]
  },
  {
   "cell_type": "code",
   "execution_count": 27,
   "id": "17a62b7a",
   "metadata": {},
   "outputs": [
    {
     "name": "stdout",
     "output_type": "stream",
     "text": [
      "Enter the marks of Mathematics: 80\n",
      "Enter the marks of Physics: 80\n",
      "Enter the marks of Chemistry: 80\n",
      "Enter the marks of Biology: 8\n",
      "Enter the marks of English: 080\n",
      "The total marks =  328\n",
      "The Percentage =  65.6 %\n",
      "The grade =  B\n"
     ]
    }
   ],
   "source": [
    "maths = int(input(\"Enter the marks of Mathematics: \"))\n",
    "phy = int(input(\"Enter the marks of Physics: \"))\n",
    "che = int(input(\"Enter the marks of Chemistry: \"))\n",
    "bio = int(input(\"Enter the marks of Biology: \"))\n",
    "eng = int(input(\"Enter the marks of English: \"))\n",
    "\n",
    "total = maths + phy + che + bio + eng \n",
    "per = total/5\n",
    "\n",
    "if per >= 80:\n",
    "    grade = 'A'\n",
    "elif per > 60:\n",
    "    grade = 'B'\n",
    "elif per >= 45:\n",
    "    grade = 'C'\n",
    "else:\n",
    "    grade = 'F'\n",
    "    \n",
    "print(\"The total marks = \", total)\n",
    "print(\"The Percentage = \", per ,\"%\")\n",
    "print(\"The grade = \", grade)\n"
   ]
  },
  {
   "cell_type": "code",
   "execution_count": 28,
   "id": "bfafa427",
   "metadata": {},
   "outputs": [
    {
     "name": "stdout",
     "output_type": "stream",
     "text": [
      "Enter the value of a: 5\n",
      "Enter the value of b: 6\n",
      "Choose the type of operation:\n",
      " 1: Addition \n",
      " 2: Substraction \n",
      " 3: Multiplication \n",
      " 4: Division\n",
      "1\n",
      "The added value of  5  and  6  is  11\n"
     ]
    }
   ],
   "source": [
    "a = int(input(\"Enter the value of a: \"))\n",
    "b = int(input(\"Enter the value of b: \"))\n",
    "\n",
    "print(\"Choose the type of operation:\\n 1: Addition \\n 2: Substraction \\n 3: Multiplication \\n 4: Division\")\n",
    "c = int(input())\n",
    "\n",
    "if c == 1:\n",
    "    print(\"The added value of \", a ,\" and \", b , \" is \" , a+b)\n",
    "elif c == 2:\n",
    "    print(\"The substracted value of \", a ,\" and \", b , \" is \" , a-b)\n",
    "elif c == 3:\n",
    "    print(\"The multiplicated value of \", a ,\" and \", b , \" is \" , a*b)\n",
    "elif c == 4:\n",
    "    print(\"The divided value of \", a ,\" and \", b , \" is \" , a/b)\n",
    "else:\n",
    "    print(\"Please enter valid input\")"
   ]
  },
  {
   "cell_type": "code",
   "execution_count": 31,
   "id": "0b785af1",
   "metadata": {},
   "outputs": [
    {
     "name": "stdout",
     "output_type": "stream",
     "text": [
      "Enter the value of a: 5\n",
      "Enter the value of b: 6\n",
      "Choose the type of operation:\n",
      " 1: + \n",
      " 2: - \n",
      " 3: * \n",
      " 4: /\n",
      "*\n",
      "The multiplicated value of  5  and  6  is  30\n"
     ]
    }
   ],
   "source": [
    "a = int(input(\"Enter the value of a: \"))\n",
    "b = int(input(\"Enter the value of b: \"))\n",
    "\n",
    "print(\"Choose the type of operation:\\n 1: + \\n 2: - \\n 3: * \\n 4: /\")\n",
    "c = input()\n",
    "\n",
    "if c == '+':\n",
    "    print(\"The added value of \", a ,\" and \", b , \" is \" , a+b)\n",
    "elif c == '-':\n",
    "    print(\"The substracted value of \", a ,\" and \", b , \" is \" , a-b)\n",
    "elif c == '*':\n",
    "    print(\"The multiplicated value of \", a ,\" and \", b , \" is \" , a*b)\n",
    "elif c == '/':\n",
    "    print(\"The divided value of \", a ,\" and \", b , \" is \" , a/b)\n",
    "else:\n",
    "    print(\"Please enter valid input\")"
   ]
  },
  {
   "cell_type": "code",
   "execution_count": 1,
   "id": "514ed457",
   "metadata": {},
   "outputs": [],
   "source": [
    "# logical operator\n",
    "# and &\n",
    "# 1 * 0 = 0\n",
    "# 0 * 1 = 0\n",
    "# 0 * 0 = 0\n",
    "# 1 * 1 = 1\n",
    "\n",
    "# or |\n",
    "# 1 + 0 = 1\n",
    "# 0 + 1 = 1\n",
    "# 0 + 0 = 0\n",
    "# 1 + 1 = 2"
   ]
  },
  {
   "cell_type": "code",
   "execution_count": 2,
   "id": "6c85bb92",
   "metadata": {},
   "outputs": [
    {
     "name": "stdout",
     "output_type": "stream",
     "text": [
      "True\n",
      "False\n",
      "False\n",
      "False\n"
     ]
    }
   ],
   "source": [
    "#and\n",
    "print(True and True)\n",
    "print(True and False)\n",
    "print(False and True)\n",
    "print(False and False)"
   ]
  },
  {
   "cell_type": "code",
   "execution_count": 3,
   "id": "4569ef1c",
   "metadata": {},
   "outputs": [
    {
     "name": "stdout",
     "output_type": "stream",
     "text": [
      "True\n",
      "True\n",
      "True\n",
      "False\n"
     ]
    }
   ],
   "source": [
    "#or\n",
    "print(True or True)\n",
    "print(True or False)\n",
    "print(False or True)\n",
    "print(False or False)"
   ]
  },
  {
   "cell_type": "code",
   "execution_count": 4,
   "id": "6c5bb7b4",
   "metadata": {},
   "outputs": [
    {
     "name": "stdout",
     "output_type": "stream",
     "text": [
      "Enter a = -5\n",
      "a is - ve and odd\n"
     ]
    }
   ],
   "source": [
    "# And\n",
    "a = int(input(\"Enter a = \"))\n",
    "if a >=0 and a%2 == 0:\n",
    "    print(\"a is + ve and even\")\n",
    "elif a>=0 and a%2 != 0:\n",
    "    print(\"a is + ve and odd\")\n",
    "elif a<0 and a%2 == 0:\n",
    "    print(\"a is - ve and even\")\n",
    "elif a<0 and a%2 != 0:\n",
    "    print(\"a is - ve and odd\")"
   ]
  },
  {
   "cell_type": "code",
   "execution_count": 5,
   "id": "115e3a2d",
   "metadata": {},
   "outputs": [
    {
     "name": "stdout",
     "output_type": "stream",
     "text": [
      "Enter physics = 89\n",
      "Enter chemistry = 78\n",
      "Enter math = 45\n",
      "Enter english = 55\n",
      "Enter nepali = 56\n",
      "The Total marks =  323\n",
      "The Per =  64.60000000000001\n",
      "The grade =  B\n"
     ]
    }
   ],
   "source": [
    "physics = int(input(\"Enter physics = \"))\n",
    "chemistry = int(input(\"Enter chemistry = \"))\n",
    "math = int(input(\"Enter math = \"))\n",
    "english = int(input(\"Enter english = \"))\n",
    "nepali = int(input(\"Enter nepali = \"))\n",
    "\n",
    "total = physics + chemistry + math + english + nepali\n",
    "\n",
    "per = total/500*100\n",
    "if (per > 80) or (per == 80):\n",
    "    grade  = 'A'\n",
    "elif (per > 60) or (per == 60):\n",
    "    grade = 'B'\n",
    "elif (per > 45) or (per == 45):\n",
    "    grade = 'C'\n",
    "else:\n",
    "    grade = 'F'\n",
    "    \n",
    "print(\"The Total marks = \",total)\n",
    "print(\"The Per = \",per)\n",
    "print(\"The grade = \",grade)"
   ]
  },
  {
   "cell_type": "code",
   "execution_count": 6,
   "id": "34d8f48f",
   "metadata": {},
   "outputs": [
    {
     "name": "stdout",
     "output_type": "stream",
     "text": [
      "Enter physics = 65\n",
      "Enter chemistry = 45\n",
      "Enter math = 78\n",
      "Enter english = 88\n",
      "Enter nepali = 88\n",
      "The Total marks =  364\n",
      "The Per =  72.8\n",
      "The grade =  B\n"
     ]
    }
   ],
   "source": [
    "physics = int(input(\"Enter physics = \"))\n",
    "chemistry = int(input(\"Enter chemistry = \"))\n",
    "math = int(input(\"Enter math = \"))\n",
    "english = int(input(\"Enter english = \"))\n",
    "nepali = int(input(\"Enter nepali = \"))\n",
    "\n",
    "if physics >=40 and chemistry>= 40 and math >=40 and english>=40 and nepali>=40:\n",
    "    total = physics + chemistry + math + english + nepali\n",
    "    per = total/500*100\n",
    "    if (per > 80) or (per == 80):\n",
    "        grade  = 'A'\n",
    "    elif (per > 60) or (per == 60):\n",
    "        grade = 'B'\n",
    "    elif (per > 45) or (per == 45):\n",
    "        grade = 'C'\n",
    "    else:\n",
    "        grade = 'F'\n",
    "\n",
    "    print(\"The Total marks = \",total)\n",
    "    print(\"The Per = \",per)\n",
    "    print(\"The grade = \",grade)\n",
    "else:\n",
    "    print(\"Fail\")"
   ]
  },
  {
   "cell_type": "code",
   "execution_count": 7,
   "id": "9f8121be",
   "metadata": {},
   "outputs": [],
   "source": [
    "# # nested if else\n",
    "# if <condition>:\n",
    "#     if <condition>:\n",
    "#         <operation>\n",
    "#     else:\n",
    "#         <operation>\n",
    "\n",
    "# else:\n",
    "#     if <condition>:\n",
    "#         <operation>\n",
    "#     else:\n",
    "#         <operation>"
   ]
  },
  {
   "cell_type": "code",
   "execution_count": 9,
   "id": "6f93ea21",
   "metadata": {},
   "outputs": [
    {
     "name": "stdout",
     "output_type": "stream",
     "text": [
      "Enter a = 5\n",
      "Enter b = 0\n",
      "Enter  + or - or * or /    /\n",
      "The value of b can not be zero\n"
     ]
    }
   ],
   "source": [
    "a = int(input(\"Enter a = \"))\n",
    "b = int(input(\"Enter b = \"))\n",
    "o = input(\"Enter  + or - or * or /    \")\n",
    "if o == '+':\n",
    "    print(a+b)\n",
    "elif o == '-':\n",
    "    print(a-b)\n",
    "elif o == '*':\n",
    "    print(a*b)\n",
    "elif o == '/':\n",
    "    if b != 0:\n",
    "        print(a/b)\n",
    "    else:\n",
    "        print(\"The value of b can not be zero\")\n",
    "else:\n",
    "    print(\"Invalid operator\")"
   ]
  },
  {
   "cell_type": "code",
   "execution_count": 10,
   "id": "99c331df",
   "metadata": {},
   "outputs": [
    {
     "name": "stdout",
     "output_type": "stream",
     "text": [
      "Enter a = 10\n",
      "Enter b = 5\n",
      "Enter  + or - or * or /    +\n",
      "15\n"
     ]
    }
   ],
   "source": [
    "a = int(input(\"Enter a = \"))\n",
    "b = int(input(\"Enter b = \"))\n",
    "o = input(\"Enter  + or - or * or /    \")\n",
    "if o == '+':\n",
    "    print(a+b)\n",
    "elif o == '-':\n",
    "    print(a-b)\n",
    "elif o == '*':\n",
    "    print(a*b)\n",
    "elif o == '/' and b != 0:\n",
    "    print(a/b)\n",
    "elif o == '/' and b == 0:\n",
    "    print(\"The value of b can not be zero\")\n",
    "else:\n",
    "    print(\"Invalid operator\")"
   ]
  },
  {
   "cell_type": "code",
   "execution_count": 11,
   "id": "7cd6db7b",
   "metadata": {},
   "outputs": [
    {
     "name": "stdout",
     "output_type": "stream",
     "text": [
      "Enter a = 5\n",
      "a is + ve and odd\n"
     ]
    }
   ],
   "source": [
    "# And\n",
    "a = int(input(\"Enter a = \"))\n",
    "if a >=0 and a%2 == 0:\n",
    "    print(\"a is + ve and even\")\n",
    "elif a>=0 and a%2 != 0:\n",
    "    print(\"a is + ve and odd\")\n",
    "elif a<0 and a%2 == 0:\n",
    "    print(\"a is - ve and even\")\n",
    "elif a<0 and a%2 != 0:\n",
    "    print(\"a is - ve and odd\")"
   ]
  },
  {
   "cell_type": "code",
   "execution_count": 13,
   "id": "c6454584",
   "metadata": {},
   "outputs": [
    {
     "name": "stdout",
     "output_type": "stream",
     "text": [
      "Enter a = 9\n",
      "a is + ve and odd\n"
     ]
    }
   ],
   "source": [
    "# And\n",
    "a = int(input(\"Enter a = \"))\n",
    "if a >=0:\n",
    "    if a%2 ==0:\n",
    "        print(\"a is + ve and even\")\n",
    "    else:\n",
    "        print(\"a is + ve and odd\")\n",
    "        \n",
    "else:\n",
    "    if a%2 == 0:\n",
    "        print(\"a is - ve and even\")\n",
    "    else:\n",
    "        print(\"a is - ve and odd\")"
   ]
  }
 ],
 "metadata": {
  "kernelspec": {
   "display_name": "Python 3 (ipykernel)",
   "language": "python",
   "name": "python3"
  },
  "language_info": {
   "codemirror_mode": {
    "name": "ipython",
    "version": 3
   },
   "file_extension": ".py",
   "mimetype": "text/x-python",
   "name": "python",
   "nbconvert_exporter": "python",
   "pygments_lexer": "ipython3",
   "version": "3.10.9"
  }
 },
 "nbformat": 4,
 "nbformat_minor": 5
}

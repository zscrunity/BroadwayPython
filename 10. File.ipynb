{
 "cells": [
  {
   "cell_type": "code",
   "execution_count": 1,
   "id": "806bc721",
   "metadata": {},
   "outputs": [],
   "source": [
    "# file = open('<file_name>','<modes>')\n",
    "# file.close()\n",
    "\n",
    "# with open('<file_name>','<modes>') as file:\n",
    "#     <operation>"
   ]
  },
  {
   "cell_type": "code",
   "execution_count": 2,
   "id": "c4e60d69",
   "metadata": {},
   "outputs": [],
   "source": [
    "# modes\n",
    "# r -> read\n",
    "# x -> create\n",
    "# w -> write\n",
    "# a -> append"
   ]
  },
  {
   "cell_type": "code",
   "execution_count": 3,
   "id": "1eff52c4",
   "metadata": {},
   "outputs": [],
   "source": [
    "file = open('data.txt','x')\n",
    "file.close()"
   ]
  },
  {
   "cell_type": "code",
   "execution_count": 5,
   "id": "0a08fa51",
   "metadata": {},
   "outputs": [
    {
     "name": "stdout",
     "output_type": "stream",
     "text": [
      "1. Hello World\n",
      "2. Hello World\n",
      "3. Hello World\n",
      "4. Hello World\n",
      "5. Hello World\n",
      "\n",
      "<class 'str'>\n"
     ]
    }
   ],
   "source": [
    "file = open('data.txt' , 'r')\n",
    "y = file.read()\n",
    "print(y)\n",
    "print(type(y))\n",
    "file.close()"
   ]
  },
  {
   "cell_type": "code",
   "execution_count": 6,
   "id": "9af57153",
   "metadata": {},
   "outputs": [
    {
     "data": {
      "text/plain": [
       "['1. Hello World',\n",
       " '2. Hello World',\n",
       " '3. Hello World',\n",
       " '4. Hello World',\n",
       " '5. Hello World',\n",
       " '']"
      ]
     },
     "execution_count": 6,
     "metadata": {},
     "output_type": "execute_result"
    }
   ],
   "source": [
    "y.split('\\n')"
   ]
  },
  {
   "cell_type": "code",
   "execution_count": 7,
   "id": "dcc150b0",
   "metadata": {},
   "outputs": [],
   "source": [
    "file = open('new_data.txt' , 'w')\n",
    "file.write('Hello World')\n",
    "file.close()"
   ]
  },
  {
   "cell_type": "code",
   "execution_count": 2,
   "id": "6cf84e3f",
   "metadata": {},
   "outputs": [
    {
     "name": "stdout",
     "output_type": "stream",
     "text": [
      "Enter the no of item ordered = 2\n",
      "Enter item name = Momo\n",
      "Enter price = 100\n",
      "Enter quantity = 2\n",
      "Enter item name = Coke\n",
      "Enter price = 1\n",
      "Enter quantity = 45\n",
      "\n",
      "Name \t Price \t Quantity \t Total\n",
      "Momo \t 100 \t 2 \t\t 200 \n",
      "Coke \t 1 \t 45 \t\t 45 \n",
      " \t\t\t\t 245\n"
     ]
    }
   ],
   "source": [
    "n = int(input(\"Enter the no of item ordered = \"))\n",
    "gt = 0\n",
    "bill = ''\n",
    "i = 0\n",
    "\n",
    "while i<n:\n",
    "    name = input(\"Enter item name = \")\n",
    "    price = int(input(\"Enter price = \"))\n",
    "    qty = int(input(\"Enter quantity = \"))\n",
    "    total = 0\n",
    "    total = price * qty\n",
    "    bill = bill + f\"{name} \\t {price} \\t {qty} \\t\\t {total} \\n\"\n",
    "    gt = gt + total\n",
    "    i = i + 1\n",
    "    \n",
    "print(\"\\nName \\t Price \\t Quantity \\t Total\")\n",
    "print(bill, \"\\t\\t\\t\\t\" , gt)\n",
    "\n",
    "file = open('new_data.txt' , 'w')\n",
    "file.write(bill)\n",
    "file.close()\n"
   ]
  },
  {
   "cell_type": "code",
   "execution_count": 3,
   "id": "76128cbb",
   "metadata": {},
   "outputs": [
    {
     "name": "stdout",
     "output_type": "stream",
     "text": [
      "Enter the no of item ordered = 2\n",
      "Enter item name = Apple\n",
      "Enter price = 45\n",
      "Enter quantity = 1\n",
      "Enter item name = Orange\n",
      "Enter price = 60\n",
      "Enter quantity = 3\n",
      "\n",
      "Name \t Price \t Quantity \t Total\n",
      "Apple \t 45 \t 1 \t\t 45 \n",
      "Orange \t 60 \t 3 \t\t 180 \n",
      " \t\t\t\t 225\n"
     ]
    }
   ],
   "source": [
    "n = int(input(\"Enter the no of item ordered = \"))\n",
    "gt = 0\n",
    "bill = ''\n",
    "i = 0\n",
    "\n",
    "while i<n:\n",
    "    name = input(\"Enter item name = \")\n",
    "    price = int(input(\"Enter price = \"))\n",
    "    qty = int(input(\"Enter quantity = \"))\n",
    "    total = 0\n",
    "    total = price * qty\n",
    "    bill = bill + f\"{name} \\t {price} \\t {qty} \\t\\t {total} \\n\"\n",
    "    gt = gt + total\n",
    "    i = i + 1\n",
    "    \n",
    "print(\"\\nName \\t Price \\t Quantity \\t Total\")\n",
    "print(bill, \"\\t\\t\\t\\t\" , gt)\n",
    "\n",
    "file = open('new_data.txt' , 'a')\n",
    "file.write(bill)\n",
    "file.close()\n"
   ]
  },
  {
   "cell_type": "code",
   "execution_count": 8,
   "id": "c46fc3f8",
   "metadata": {},
   "outputs": [],
   "source": [
    "file = open('new_data.csv' , 'w')\n",
    "file.write('name,price,quantity,total\\n')\n",
    "file.close()"
   ]
  },
  {
   "cell_type": "code",
   "execution_count": 9,
   "id": "1fc55f9f",
   "metadata": {},
   "outputs": [
    {
     "name": "stdout",
     "output_type": "stream",
     "text": [
      "Enter the no of item ordered = 2\n",
      "Enter item name = Momo\n",
      "Enter price = 100\n",
      "Enter quantity = 2\n",
      "Enter item name = Coke\n",
      "Enter price = 45\n",
      "Enter quantity = 1\n",
      "\n",
      "Name \t Price \t Quantity \t Total\n",
      "Momo,100,2,200 \n",
      "Coke,45,1,45 \n",
      " \t\t\t\t 245\n"
     ]
    }
   ],
   "source": [
    "n = int(input(\"Enter the no of item ordered = \"))\n",
    "gt = 0\n",
    "bill = ''\n",
    "i = 0\n",
    "\n",
    "while i<n:\n",
    "    name = input(\"Enter item name = \")\n",
    "    price = int(input(\"Enter price = \"))\n",
    "    qty = int(input(\"Enter quantity = \"))\n",
    "    total = 0\n",
    "    total = price * qty\n",
    "    bill = bill + f\"{name},{price},{qty},{total} \\n\"\n",
    "    gt = gt + total\n",
    "    i = i + 1\n",
    "    \n",
    "print(\"\\nName \\t Price \\t Quantity \\t Total\")\n",
    "print(bill, \"\\t\\t\\t\\t\" , gt)\n",
    "\n",
    "file = open('new_data.csv' , 'a')\n",
    "file.write(bill)\n",
    "file.close()\n"
   ]
  },
  {
   "cell_type": "code",
   "execution_count": 10,
   "id": "d493cd57",
   "metadata": {},
   "outputs": [
    {
     "name": "stdout",
     "output_type": "stream",
     "text": [
      "name,price,quantity,total\n",
      "Momo,100,2,200 \n",
      "Coke,45,1,45 \n",
      "\n"
     ]
    }
   ],
   "source": [
    "file = open('new_data.csv' , 'r')\n",
    "print(file.read())\n",
    "file.close()"
   ]
  }
 ],
 "metadata": {
  "kernelspec": {
   "display_name": "Python 3 (ipykernel)",
   "language": "python",
   "name": "python3"
  },
  "language_info": {
   "codemirror_mode": {
    "name": "ipython",
    "version": 3
   },
   "file_extension": ".py",
   "mimetype": "text/x-python",
   "name": "python",
   "nbconvert_exporter": "python",
   "pygments_lexer": "ipython3",
   "version": "3.10.9"
  }
 },
 "nbformat": 4,
 "nbformat_minor": 5
}

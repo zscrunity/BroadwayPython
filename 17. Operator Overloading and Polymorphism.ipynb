{
 "cells": [
  {
   "cell_type": "code",
   "execution_count": 1,
   "id": "9fe1ec72",
   "metadata": {},
   "outputs": [
    {
     "name": "stdout",
     "output_type": "stream",
     "text": [
      "2 3\n",
      "-1 2\n"
     ]
    }
   ],
   "source": [
    "class Point:\n",
    "    def __init__(self,x,y):\n",
    "        self.x = x\n",
    "        self.y = y\n",
    "        \n",
    "p1 = Point(2,3)\n",
    "p2 = Point(-1,2)\n",
    "print(p1.x,p1.y)\n",
    "print(p2.x,p2.y)\n"
   ]
  },
  {
   "cell_type": "code",
   "execution_count": 2,
   "id": "01d4aebe",
   "metadata": {},
   "outputs": [
    {
     "name": "stdout",
     "output_type": "stream",
     "text": [
      "2000\n",
      "1000\n",
      "3000\n"
     ]
    }
   ],
   "source": [
    "class Point:\n",
    "    def __init__(self,x):\n",
    "        self.x = x\n",
    "        \n",
    "p1 = Point(2000)\n",
    "p2 = Point(1000)\n",
    "print(p1.x)\n",
    "print(p2.x)\n",
    "print(p1.x+p2.x)"
   ]
  },
  {
   "cell_type": "code",
   "execution_count": 4,
   "id": "7e030d17",
   "metadata": {},
   "outputs": [
    {
     "name": "stdout",
     "output_type": "stream",
     "text": [
      "(1,5)\n"
     ]
    }
   ],
   "source": [
    "class Point:\n",
    "    def __init__(self,x = 0 ,y = 0):\n",
    "        self.x = x\n",
    "        self.y = y\n",
    "        \n",
    "    def __str__(self):\n",
    "        return \"({0},{1})\".format(self.x,self.y)\n",
    "    \n",
    "    def __add__(self,other):\n",
    "        x = self.x + other.x\n",
    "        y = self.y + other.y\n",
    "        return Point(x,y)\n",
    "    \n",
    "p1 = Point(2,3)\n",
    "p2 = Point(-1,2)\n",
    "print(p1+p2)\n"
   ]
  },
  {
   "cell_type": "code",
   "execution_count": 7,
   "id": "22516a09",
   "metadata": {},
   "outputs": [
    {
     "name": "stdout",
     "output_type": "stream",
     "text": [
      "This is init method 1000\n",
      "This is init method 3000\n",
      "This is init method 2500\n",
      "This is add method 4000\n",
      "This is init method 4000\n",
      "This is add method 6500\n",
      "This is init method 6500\n",
      "This is str method 6500\n",
      "6500\n"
     ]
    }
   ],
   "source": [
    "class Point:\n",
    "    def __init__(self,x = 0 ):\n",
    "        self.x = x\n",
    "        print(\"This is init method\" , self.x)\n",
    "        \n",
    "    def __str__(self):\n",
    "        print(\"This is str method\" , self.x)\n",
    "        return f\"{self.x}\"\n",
    "        \n",
    "    def __add__(self,other):\n",
    "        x = self.x + other.x\n",
    "        print(\"This is add method\" , x)\n",
    "        return Point(x)\n",
    "    \n",
    "p1 = Point(1000)\n",
    "p2 = Point(3000)\n",
    "p3 = Point(2500)\n",
    "\n",
    "print(p1 + p2 + p3)"
   ]
  },
  {
   "cell_type": "code",
   "execution_count": 8,
   "id": "e15748cc",
   "metadata": {},
   "outputs": [
    {
     "name": "stdout",
     "output_type": "stream",
     "text": [
      "Parrot can fly\n",
      "Penguin can't fly\n"
     ]
    }
   ],
   "source": [
    "class Parrot:\n",
    "    def fly(self):\n",
    "        print(\"Parrot can fly\")\n",
    "    def swim(self):\n",
    "        print(\"Parrot can't swim\")\n",
    "        \n",
    "class Penguin:\n",
    "    def fly(self):\n",
    "        print(\"Penguin can't fly\")\n",
    "    def swim(self):\n",
    "        print(\"Penguin can swim\")\n",
    "        \n",
    "def flying_test(bird):\n",
    "    bird.fly()\n",
    "    \n",
    "blu = Parrot()\n",
    "peggy = Penguin()\n",
    "\n",
    "flying_test(blu)\n",
    "flying_test(peggy)"
   ]
  },
  {
   "cell_type": "code",
   "execution_count": null,
   "id": "2022fafd",
   "metadata": {},
   "outputs": [],
   "source": []
  }
 ],
 "metadata": {
  "kernelspec": {
   "display_name": "Python 3 (ipykernel)",
   "language": "python",
   "name": "python3"
  },
  "language_info": {
   "codemirror_mode": {
    "name": "ipython",
    "version": 3
   },
   "file_extension": ".py",
   "mimetype": "text/x-python",
   "name": "python",
   "nbconvert_exporter": "python",
   "pygments_lexer": "ipython3",
   "version": "3.10.9"
  }
 },
 "nbformat": 4,
 "nbformat_minor": 5
}

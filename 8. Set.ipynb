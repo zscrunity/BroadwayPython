{
 "cells": [
  {
   "cell_type": "code",
   "execution_count": 1,
   "id": "5d23a32c",
   "metadata": {},
   "outputs": [],
   "source": [
    "# Set\n",
    "# - No Indexing\n",
    "# - Multiple but no duplicate values\n",
    "# - Unordered\n",
    "# - Mutable"
   ]
  },
  {
   "cell_type": "code",
   "execution_count": null,
   "id": "a435c23a",
   "metadata": {},
   "outputs": [],
   "source": [
    "# No mutable datatype inside set\n",
    "# Inside set no list dict set"
   ]
  },
  {
   "cell_type": "code",
   "execution_count": 3,
   "id": "de31c7f7",
   "metadata": {},
   "outputs": [
    {
     "name": "stdout",
     "output_type": "stream",
     "text": [
      "<class 'set'>\n",
      "{1, 2, 3, 4, 5, 6, 7}\n"
     ]
    }
   ],
   "source": [
    "s = {1,2,3,4,5,6,7}\n",
    "print(type(s))\n",
    "print(s)"
   ]
  },
  {
   "cell_type": "code",
   "execution_count": 4,
   "id": "4b1b5332",
   "metadata": {},
   "outputs": [
    {
     "data": {
      "text/plain": [
       "set()"
      ]
     },
     "execution_count": 4,
     "metadata": {},
     "output_type": "execute_result"
    }
   ],
   "source": [
    "a = set()\n",
    "a"
   ]
  },
  {
   "cell_type": "code",
   "execution_count": 1,
   "id": "8e2fedca",
   "metadata": {},
   "outputs": [
    {
     "name": "stdout",
     "output_type": "stream",
     "text": [
      "{'Ball', 'Dog', 'Fish', 'Cat', 'Goat', 'Apple'}\n"
     ]
    },
    {
     "data": {
      "text/plain": [
       "{'Apple', 'Ball', 'Cat', 'Dog', 'Fish', 'Goat'}"
      ]
     },
     "execution_count": 1,
     "metadata": {},
     "output_type": "execute_result"
    }
   ],
   "source": [
    "a = {\"Apple\" , \"Ball\" , \"Cat\" , \"Dog\" , \"Fish\" , \"Goat\"}\n",
    "print(a)\n",
    "a"
   ]
  },
  {
   "cell_type": "code",
   "execution_count": 1,
   "id": "effda85a",
   "metadata": {},
   "outputs": [
    {
     "name": "stdout",
     "output_type": "stream",
     "text": [
      "Dog\n",
      "Ball\n",
      "Fish\n",
      "Goat\n",
      "Cat\n",
      "Apple\n"
     ]
    }
   ],
   "source": [
    "a = {\"Apple\" , \"Ball\" , \"Cat\" , \"Dog\" , \"Fish\" , \"Goat\"}\n",
    "for i in a:\n",
    "    print(i)"
   ]
  },
  {
   "cell_type": "code",
   "execution_count": 3,
   "id": "41d717ef",
   "metadata": {},
   "outputs": [
    {
     "data": {
      "text/plain": [
       "{'Apple', 'Ball', 'Cat', 'Dog', 'Fish', 'Goat'}"
      ]
     },
     "execution_count": 3,
     "metadata": {},
     "output_type": "execute_result"
    }
   ],
   "source": [
    "a = {\"Apple\" , \"Ball\" , \"Cat\" , \"Dog\" , \"Fish\" , \"Goat\" , \"Apple\" , \"Ball\"}\n",
    "a"
   ]
  },
  {
   "cell_type": "code",
   "execution_count": 4,
   "id": "cbafe8bc",
   "metadata": {},
   "outputs": [],
   "source": [
    "# Set \n",
    "# add()\n",
    "# remove()\n",
    "# update()"
   ]
  },
  {
   "cell_type": "code",
   "execution_count": 7,
   "id": "31d375ee",
   "metadata": {},
   "outputs": [
    {
     "name": "stdout",
     "output_type": "stream",
     "text": [
      "{'Cat', 'Ball', 'Apple'}\n"
     ]
    }
   ],
   "source": [
    "s = set()\n",
    "s.add(\"Apple\")\n",
    "s.add(\"Ball\")\n",
    "s.add(\"Cat\")\n",
    "print(s)"
   ]
  },
  {
   "cell_type": "code",
   "execution_count": 17,
   "id": "13abded1",
   "metadata": {},
   "outputs": [
    {
     "data": {
      "text/plain": [
       "{1, 2, 3, 4, 5, 6, 7, 'Apple', 'Ball', 'Cat'}"
      ]
     },
     "execution_count": 17,
     "metadata": {},
     "output_type": "execute_result"
    }
   ],
   "source": [
    "a = {\"Apple\" , \"Ball\" , \"Cat\"}\n",
    "b = {1,2,3,4,5,6,7}\n",
    "a.update(b)\n",
    "a"
   ]
  },
  {
   "cell_type": "code",
   "execution_count": 16,
   "id": "11879244",
   "metadata": {},
   "outputs": [],
   "source": [
    "# intersection()\n",
    "# union()\n",
    "# difference()"
   ]
  },
  {
   "cell_type": "code",
   "execution_count": 2,
   "id": "cd29c0ef",
   "metadata": {},
   "outputs": [
    {
     "data": {
      "text/plain": [
       "{'CSS', 'Django', 'HTML', 'Python'}"
      ]
     },
     "execution_count": 2,
     "metadata": {},
     "output_type": "execute_result"
    }
   ],
   "source": [
    "skills = {'Python' , 'HTML' , 'Django' , 'CSS' , 'Js'}\n",
    "job = {'Python' , 'Django' , 'HTML' , 'CSS' , 'Java' , 'C' , 'C++'}\n",
    "\n",
    "skills.intersection(job)       # Common Value"
   ]
  },
  {
   "cell_type": "code",
   "execution_count": 17,
   "id": "e72441e5",
   "metadata": {},
   "outputs": [
    {
     "data": {
      "text/plain": [
       "{'C', 'C++', 'CSS', 'Django', 'HTML', 'Java', 'Js', 'Python'}"
      ]
     },
     "execution_count": 17,
     "metadata": {},
     "output_type": "execute_result"
    }
   ],
   "source": [
    "skills.union(job)"
   ]
  },
  {
   "cell_type": "code",
   "execution_count": 13,
   "id": "ec88ef22",
   "metadata": {},
   "outputs": [
    {
     "data": {
      "text/plain": [
       "{'Js'}"
      ]
     },
     "execution_count": 13,
     "metadata": {},
     "output_type": "execute_result"
    }
   ],
   "source": [
    "# Skills in you but not in Job\n",
    "skills.difference(job)"
   ]
  },
  {
   "cell_type": "code",
   "execution_count": 3,
   "id": "d32396ca",
   "metadata": {},
   "outputs": [
    {
     "data": {
      "text/plain": [
       "{'C', 'C++', 'Java'}"
      ]
     },
     "execution_count": 3,
     "metadata": {},
     "output_type": "execute_result"
    }
   ],
   "source": [
    "# Skills in Job but not in You\n",
    "job.difference(skills)"
   ]
  },
  {
   "cell_type": "code",
   "execution_count": 3,
   "id": "6ac64678",
   "metadata": {},
   "outputs": [
    {
     "name": "stdout",
     "output_type": "stream",
     "text": [
      "Enter n = 5\n",
      "Enter value = 1\n",
      "Enter value = 2\n",
      "Enter value = 3\n",
      "Enter value = 4\n",
      "Enter value = 5\n",
      "{1, 2, 3, 4, 5}\n"
     ]
    }
   ],
   "source": [
    "# WAP to create set taking values from users\n",
    "s = set()\n",
    "n = int(input(\"Enter n = \"))\n",
    "\n",
    "for i in range(n):\n",
    "    s.add(int(input(\"Enter value = \")))\n",
    "    \n",
    "print(s)"
   ]
  },
  {
   "cell_type": "markdown",
   "id": "4b8b1625",
   "metadata": {},
   "source": []
  }
 ],
 "metadata": {
  "kernelspec": {
   "display_name": "Python 3 (ipykernel)",
   "language": "python",
   "name": "python3"
  },
  "language_info": {
   "codemirror_mode": {
    "name": "ipython",
    "version": 3
   },
   "file_extension": ".py",
   "mimetype": "text/x-python",
   "name": "python",
   "nbconvert_exporter": "python",
   "pygments_lexer": "ipython3",
   "version": "3.10.9"
  }
 },
 "nbformat": 4,
 "nbformat_minor": 5
}

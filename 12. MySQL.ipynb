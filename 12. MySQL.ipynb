{
 "cells": [
  {
   "cell_type": "code",
   "execution_count": 3,
   "id": "1c80fc4b",
   "metadata": {},
   "outputs": [],
   "source": [
    "import mysql.connector\n",
    "\n",
    "database = mysql.connector.connect(\n",
    "            host = 'localhost',\n",
    "            user = 'root',\n",
    "            password = '',\n",
    "            database = 'student'\n",
    "            )\n",
    "\n",
    "db = database.cursor()"
   ]
  },
  {
   "cell_type": "code",
   "execution_count": 3,
   "id": "f8d833e0",
   "metadata": {},
   "outputs": [
    {
     "name": "stdout",
     "output_type": "stream",
     "text": [
      "(1, 'Zenith', 45, 45, 65, 45, 23, 45, 45.0, 'F')\n"
     ]
    }
   ],
   "source": [
    "db.execute(\"SELECT * FROM student\")\n",
    "result = db.fetchall()\n",
    "for x in result:\n",
    "    print(x)"
   ]
  },
  {
   "cell_type": "code",
   "execution_count": 7,
   "id": "1502c490",
   "metadata": {},
   "outputs": [
    {
     "name": "stdout",
     "output_type": "stream",
     "text": [
      "(1, 'Zenith', 45, 45.0, 'F')\n"
     ]
    }
   ],
   "source": [
    "db.execute(\"SELECT sn,name,total,percentage,grade FROM student \")\n",
    "result = db.fetchall()\n",
    "for x in result:\n",
    "    print(x)"
   ]
  },
  {
   "cell_type": "code",
   "execution_count": 8,
   "id": "7c01343f",
   "metadata": {},
   "outputs": [
    {
     "name": "stdout",
     "output_type": "stream",
     "text": [
      "(1, 'Zenith', 45, 45, 65, 45, 23, 45, 45.0, 'F')\n"
     ]
    }
   ],
   "source": [
    "db.execute(\"SELECT * FROM student WHERE grade = 'f'\")\n",
    "result = db.fetchall()\n",
    "for x in result:\n",
    "    print(x)"
   ]
  },
  {
   "cell_type": "code",
   "execution_count": 10,
   "id": "0daf5853",
   "metadata": {},
   "outputs": [
    {
     "name": "stdout",
     "output_type": "stream",
     "text": [
      "(1, 'Zenith', 45, 45, 65, 45, 23, 45, 45.0, 'F')\n"
     ]
    }
   ],
   "source": [
    "db.execute(\"SELECT * FROM student WHERE percentage < 60\")\n",
    "result = db.fetchall()\n",
    "for x in result:\n",
    "    print(x)"
   ]
  },
  {
   "cell_type": "code",
   "execution_count": 11,
   "id": "135a29bd",
   "metadata": {},
   "outputs": [
    {
     "name": "stdout",
     "output_type": "stream",
     "text": [
      "(1, 'Zenith', 45, 45, 65, 45, 23, 45, 45.0, 'F')\n"
     ]
    }
   ],
   "source": [
    "db.execute(\"SELECT * FROM student WHERE name = 'Zenith'\")\n",
    "result = db.fetchall()\n",
    "for x in result:\n",
    "    print(x)"
   ]
  },
  {
   "cell_type": "code",
   "execution_count": 13,
   "id": "42b7780b",
   "metadata": {},
   "outputs": [],
   "source": [
    "# Insert\n",
    "sql = '''INSERT INTO student (name,physics,chemistry,maths,english,nepali,total,percentage,grade)\n",
    "         VALUES ('Maharjan', 90 , 90 ,90 , 90 , 90 ,400 , 75 ,'A')'''\n",
    "db.execute(sql)\n",
    "database.commit()"
   ]
  },
  {
   "cell_type": "code",
   "execution_count": 16,
   "id": "f0d8c917",
   "metadata": {},
   "outputs": [
    {
     "name": "stdout",
     "output_type": "stream",
     "text": [
      "Enter your name: SanFran\n",
      "Enter the marks of Physics: 45\n",
      "Enter the marks of Chemistry: 68\n",
      "Enter the marks of Mathematics: 98\n",
      "Enter the marks of English: 78\n",
      "Enter the marks of Nepali: 45\n",
      "The total marks =  334\n",
      "The Percentage =  66.8 %\n",
      "The grade =  B\n"
     ]
    }
   ],
   "source": [
    "name = input(\"Enter your name: \")\n",
    "phy = int(input(\"Enter the marks of Physics: \"))\n",
    "che = int(input(\"Enter the marks of Chemistry: \"))\n",
    "maths = int(input(\"Enter the marks of Mathematics: \"))\n",
    "eng = int(input(\"Enter the marks of English: \"))\n",
    "nep = int(input(\"Enter the marks of Nepali: \"))\n",
    "\n",
    "total = maths + phy + che + nep + eng \n",
    "per = total/5\n",
    "\n",
    "if per >= 80:\n",
    "    grade = 'A'\n",
    "elif per > 60:\n",
    "    grade = 'B'\n",
    "elif per >= 45:\n",
    "    grade = 'C'\n",
    "else:\n",
    "    grade = 'F'\n",
    "    \n",
    "print(\"The total marks = \", total)\n",
    "print(\"The Percentage = \", per ,\"%\")\n",
    "print(\"The grade = \", grade)\n",
    "\n",
    "sql = f'''INSERT INTO student (name,physics,chemistry,maths,english,nepali,total,percentage,grade)\n",
    "         VALUES ('{name}', {phy} , {che} , {maths} , {eng} , {nep} , {total} , {per} , '{grade}')'''\n",
    "db.execute(sql)\n",
    "database.commit()"
   ]
  },
  {
   "cell_type": "code",
   "execution_count": 17,
   "id": "eb578aed",
   "metadata": {},
   "outputs": [
    {
     "name": "stdout",
     "output_type": "stream",
     "text": [
      "Enter n = 4\n",
      "Enter your name: Hamburger\n",
      "Enter the marks of Physics: 45\n",
      "Enter the marks of Chemistry: 78\n",
      "Enter the marks of Mathematics: 87\n",
      "Enter the marks of English: 45\n",
      "Enter the marks of Nepali: 65\n",
      "Enter your name: Tulip\n",
      "Enter the marks of Physics: 78\n",
      "Enter the marks of Chemistry: 78\n",
      "Enter the marks of Mathematics: 78\n",
      "Enter the marks of English: 78\n",
      "Enter the marks of Nepali: 78\n",
      "Enter your name: Tornado\n",
      "Enter the marks of Physics: 32\n",
      "Enter the marks of Chemistry: 12\n",
      "Enter the marks of Mathematics: 45\n",
      "Enter the marks of English: 78\n",
      "Enter the marks of Nepali: 11\n",
      "Enter your name: Broadway\n",
      "Enter the marks of Physics: 99\n",
      "Enter the marks of Chemistry: 99\n",
      "Enter the marks of Mathematics: 9\n",
      "Enter the marks of English: 99\n",
      "Enter the marks of Nepali: 99\n"
     ]
    }
   ],
   "source": [
    "n = int(input(\"Enter n = \"))\n",
    "for i in range(n):\n",
    "    name = input(\"Enter your name: \")\n",
    "    phy = int(input(\"Enter the marks of Physics: \"))\n",
    "    che = int(input(\"Enter the marks of Chemistry: \"))\n",
    "    maths = int(input(\"Enter the marks of Mathematics: \"))\n",
    "    eng = int(input(\"Enter the marks of English: \"))\n",
    "    nep = int(input(\"Enter the marks of Nepali: \"))\n",
    "\n",
    "    total = maths + phy + che + nep + eng \n",
    "    per = total/5\n",
    "\n",
    "    if per >= 80:\n",
    "        grade = 'A'\n",
    "    elif per > 60:\n",
    "        grade = 'B'\n",
    "    elif per >= 45:\n",
    "        grade = 'C'\n",
    "    else:\n",
    "        grade = 'F'\n",
    "\n",
    "    sql = f'''INSERT INTO student (name,physics,chemistry,maths,english,nepali,total,percentage,grade)\n",
    "             VALUES ('{name}', {phy} , {che} , {maths} , {eng} , {nep} , {total} , {per} , '{grade}')'''\n",
    "    db.execute(sql)\n",
    "    \n",
    "database.commit()"
   ]
  },
  {
   "cell_type": "code",
   "execution_count": 5,
   "id": "1947f899",
   "metadata": {},
   "outputs": [],
   "source": [
    "# Update\n",
    "sql = \"UPDATE student SET name = 'Home' WHERE SN = 4\"\n",
    "db.execute(sql)\n",
    "database.commit()"
   ]
  },
  {
   "cell_type": "code",
   "execution_count": 6,
   "id": "1cfbb5e0",
   "metadata": {},
   "outputs": [],
   "source": [
    "# Delete\n",
    "sql = \"DELETE FROM student WHERE sn = 5\"\n",
    "db.execute(sql)\n",
    "database.commit()"
   ]
  },
  {
   "cell_type": "code",
   "execution_count": null,
   "id": "072090bf",
   "metadata": {},
   "outputs": [],
   "source": []
  }
 ],
 "metadata": {
  "kernelspec": {
   "display_name": "Python 3 (ipykernel)",
   "language": "python",
   "name": "python3"
  },
  "language_info": {
   "codemirror_mode": {
    "name": "ipython",
    "version": 3
   },
   "file_extension": ".py",
   "mimetype": "text/x-python",
   "name": "python",
   "nbconvert_exporter": "python",
   "pygments_lexer": "ipython3",
   "version": "3.10.9"
  }
 },
 "nbformat": 4,
 "nbformat_minor": 5
}

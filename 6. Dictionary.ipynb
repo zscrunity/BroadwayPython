{
 "cells": [
  {
   "cell_type": "code",
   "execution_count": 1,
   "id": "7d237bfa",
   "metadata": {},
   "outputs": [],
   "source": [
    "# Dictionary\n",
    "# - Indexing\n",
    "# - Multiple and Duplicate data\n",
    "# - Ordered\n",
    "# - Mutable"
   ]
  },
  {
   "cell_type": "code",
   "execution_count": 2,
   "id": "fa002c3f",
   "metadata": {},
   "outputs": [],
   "source": [
    "# d = {<key>:<value> , <key>:<value>}"
   ]
  },
  {
   "cell_type": "code",
   "execution_count": 3,
   "id": "5c68c887",
   "metadata": {},
   "outputs": [
    {
     "data": {
      "text/plain": [
       "{'a': 'Apple', 'b': 'Ball', 'c': 'Cat'}"
      ]
     },
     "execution_count": 3,
     "metadata": {},
     "output_type": "execute_result"
    }
   ],
   "source": [
    "d = {'a':'Apple' , 'b':\"Ball\", 'c':\"Cat\"}\n",
    "d"
   ]
  },
  {
   "cell_type": "code",
   "execution_count": 5,
   "id": "5146338f",
   "metadata": {},
   "outputs": [
    {
     "name": "stdout",
     "output_type": "stream",
     "text": [
      "Apple\n",
      "Ball\n"
     ]
    }
   ],
   "source": [
    "print(d['a'])\n",
    "print(d['b'])"
   ]
  },
  {
   "cell_type": "code",
   "execution_count": 7,
   "id": "73b08df2",
   "metadata": {},
   "outputs": [
    {
     "name": "stdout",
     "output_type": "stream",
     "text": [
      "{'a': 'Apple', 'b': 'Ball', 'c': 'Dog'}\n"
     ]
    }
   ],
   "source": [
    "d = {'a':'Apple' , 'b':'Ball' ,'c': 'Cat' , 'c':'Dog'}\n",
    "print(d)"
   ]
  },
  {
   "cell_type": "code",
   "execution_count": 8,
   "id": "a4863df8",
   "metadata": {},
   "outputs": [
    {
     "data": {
      "text/plain": [
       "dict"
      ]
     },
     "execution_count": 8,
     "metadata": {},
     "output_type": "execute_result"
    }
   ],
   "source": [
    "# Create a dict\n",
    "d = {}\n",
    "type(d)"
   ]
  },
  {
   "cell_type": "code",
   "execution_count": 9,
   "id": "b2547855",
   "metadata": {},
   "outputs": [
    {
     "data": {
      "text/plain": [
       "dict"
      ]
     },
     "execution_count": 9,
     "metadata": {},
     "output_type": "execute_result"
    }
   ],
   "source": [
    "# Create a dict\n",
    "d = dict()\n",
    "type(d)"
   ]
  },
  {
   "cell_type": "code",
   "execution_count": 11,
   "id": "a349c98a",
   "metadata": {},
   "outputs": [
    {
     "data": {
      "text/plain": [
       "{'a': 'Apple', 'b': 'Ball', 'c': 'Cat'}"
      ]
     },
     "execution_count": 11,
     "metadata": {},
     "output_type": "execute_result"
    }
   ],
   "source": [
    "# Add Values\n",
    "d = {}\n",
    "d['a'] = \"Apple\"\n",
    "d['b'] = \"Ball\"\n",
    "d['c'] = \"Cat\"\n",
    "d"
   ]
  },
  {
   "cell_type": "code",
   "execution_count": 12,
   "id": "1cc7c153",
   "metadata": {},
   "outputs": [
    {
     "name": "stdout",
     "output_type": "stream",
     "text": [
      "{'a': 'Ant', 'b': 'Ball', 'c': 'Cat'}\n"
     ]
    }
   ],
   "source": [
    "# Update Values\n",
    "d = {'a':'Apple' , 'b':'Ball', 'c':'Cat'}\n",
    "d['a'] = \"Ant\"\n",
    "print(d)"
   ]
  },
  {
   "cell_type": "code",
   "execution_count": 13,
   "id": "877d0ae5",
   "metadata": {},
   "outputs": [
    {
     "name": "stdout",
     "output_type": "stream",
     "text": [
      "a\n",
      "b\n",
      "c\n"
     ]
    }
   ],
   "source": [
    "d = {'a':'Apple' , 'b':'Ball', 'c':'Cat'}\n",
    "for i in d:\n",
    "    print(i)"
   ]
  },
  {
   "cell_type": "code",
   "execution_count": 14,
   "id": "41b0a161",
   "metadata": {},
   "outputs": [
    {
     "name": "stdout",
     "output_type": "stream",
     "text": [
      "Apple\n",
      "Ball\n",
      "Cat\n"
     ]
    }
   ],
   "source": [
    "d = {'a':'Apple' , 'b':'Ball', 'c':'Cat'}\n",
    "for i in d.values():\n",
    "    print(i)"
   ]
  },
  {
   "cell_type": "code",
   "execution_count": 15,
   "id": "3417053a",
   "metadata": {},
   "outputs": [
    {
     "name": "stdout",
     "output_type": "stream",
     "text": [
      "('a', 'Apple')\n",
      "('b', 'Ball')\n",
      "('c', 'Cat')\n"
     ]
    }
   ],
   "source": [
    "d = {'a':'Apple' , 'b':'Ball', 'c':'Cat'}\n",
    "for i in d.items():\n",
    "    print(i)"
   ]
  },
  {
   "cell_type": "code",
   "execution_count": 16,
   "id": "43a28ac4",
   "metadata": {},
   "outputs": [
    {
     "data": {
      "text/plain": [
       "{'a': 'Ant', 'b': 'Ball', 'c': 'Cat'}"
      ]
     },
     "execution_count": 16,
     "metadata": {},
     "output_type": "execute_result"
    }
   ],
   "source": [
    "# Convert List into dict\n",
    "d = [['a','Ant'],['b','Ball'],['c','Cat']]\n",
    "dict(d)"
   ]
  },
  {
   "cell_type": "code",
   "execution_count": 18,
   "id": "94072107",
   "metadata": {},
   "outputs": [
    {
     "name": "stdout",
     "output_type": "stream",
     "text": [
      "Enter n = 2\n",
      "Enter name = Zenith\n",
      "Enter phone = 9803060561\n",
      "Enter name = Maharjan\n",
      "Enter phone = 9864241767\n",
      "{'Zenith': '9803060561', 'Maharjan': '9864241767'}\n"
     ]
    }
   ],
   "source": [
    "data = {}\n",
    "n = int(input(\"Enter n = \"))\n",
    "for i in range(n):\n",
    "    name = input(\"Enter name = \")\n",
    "    phone = input(\"Enter phone = \")\n",
    "    data[name] = phone\n",
    "\n",
    "print(data)"
   ]
  },
  {
   "cell_type": "code",
   "execution_count": 20,
   "id": "2a030326",
   "metadata": {},
   "outputs": [],
   "source": [
    "# # No List as key in dict\n",
    "# data = {['ram']: '9803051213' , ['Shyam'] : '9812312312'}\n",
    "# data"
   ]
  },
  {
   "cell_type": "code",
   "execution_count": 21,
   "id": "2a9b46fd",
   "metadata": {},
   "outputs": [
    {
     "data": {
      "text/plain": [
       "{'Ram': [9841246714, 9841278953], 'Shyam': [123456789, 678955592]}"
      ]
     },
     "execution_count": 21,
     "metadata": {},
     "output_type": "execute_result"
    }
   ],
   "source": [
    "# List inside Dictionary\n",
    "data = {'Ram': [9841246714,9841278953] , 'Shyam':[123456789,678955592]}\n",
    "data"
   ]
  },
  {
   "cell_type": "code",
   "execution_count": 23,
   "id": "14ebdb01",
   "metadata": {},
   "outputs": [
    {
     "name": "stdout",
     "output_type": "stream",
     "text": [
      "Enter n = 2\n",
      "Enter name = Zenith\n",
      "Enter ntc phone no = 9841278953\n",
      "Enter ncell phone no = 9803060561\n",
      "Enter name = Maharjan\n",
      "Enter ntc phone no = 9841188352\n",
      "Enter ncell phone no = 9864241767\n",
      "{'Zenith': ['9841278953', '9803060561'], 'Maharjan': ['9841188352', '9864241767']}\n"
     ]
    }
   ],
   "source": [
    "data = {}\n",
    "n = int(input(\"Enter n = \"))\n",
    "for i in range(n):\n",
    "    name = input(\"Enter name = \")\n",
    "    ntc_phone = input(\"Enter ntc phone no = \")\n",
    "    ncell_phone = input(\"Enter ncell phone no = \")\n",
    "    data[name] = [ntc_phone,ncell_phone]\n",
    "\n",
    "print(data)"
   ]
  },
  {
   "cell_type": "code",
   "execution_count": 25,
   "id": "8c6feba2",
   "metadata": {},
   "outputs": [
    {
     "name": "stdout",
     "output_type": "stream",
     "text": [
      "Ntc no of Zenith 9841278953\n"
     ]
    }
   ],
   "source": [
    "print(\"Ntc no of Zenith\" , data['Zenith'][0])"
   ]
  },
  {
   "cell_type": "code",
   "execution_count": 26,
   "id": "b92d3a1a",
   "metadata": {},
   "outputs": [],
   "source": [
    "data = {\n",
    "    'name' : ['Ram','Shyam','Hari'],\n",
    "    'age' : [78,67,89],\n",
    "    'add' : ['Kathmandu','Bhaktapur','Lalitpur']\n",
    "}"
   ]
  },
  {
   "cell_type": "code",
   "execution_count": 27,
   "id": "331b24a0",
   "metadata": {},
   "outputs": [
    {
     "name": "stdout",
     "output_type": "stream",
     "text": [
      "Enter n = 2\n",
      "Enter name = Zenith\n",
      "Enter age = 21\n",
      "Enter address = Kathmandu\n",
      "Enter name = Maharjan\n",
      "Enter age = 23\n",
      "Enter address = Teku\n",
      "{'name': ['Zenith', 'Maharjan'], 'age': [21, 23], 'add': ['Kathmandu', 'Teku']}\n"
     ]
    }
   ],
   "source": [
    "data = {\n",
    "    'name' : [],\n",
    "    'age' : [],\n",
    "    'add' : []\n",
    "}\n",
    "\n",
    "n = int(input(\"Enter n = \"))\n",
    "for i in range(n):\n",
    "    name = input(\"Enter name = \")\n",
    "    age = int(input(\"Enter age = \"))\n",
    "    add = input(\"Enter address = \")\n",
    "    data['name'].append(name)\n",
    "    data['age'].append(age)\n",
    "    data['add'].append(add)\n",
    "    \n",
    "print(data)"
   ]
  },
  {
   "cell_type": "code",
   "execution_count": 30,
   "id": "92ddbf46",
   "metadata": {},
   "outputs": [
    {
     "name": "stdout",
     "output_type": "stream",
     "text": [
      "Name =  Zenith\n",
      "Age =  21\n",
      "Address =  Kathmandu\n"
     ]
    }
   ],
   "source": [
    "# Details of Zenith\n",
    "print(\"Name = \", data['name'][0])\n",
    "print(\"Age = \", data['age'][0])\n",
    "print(\"Address = \",data[\"add\"][0])"
   ]
  },
  {
   "cell_type": "code",
   "execution_count": 31,
   "id": "6ebe5c65",
   "metadata": {},
   "outputs": [],
   "source": [
    "#WAP to edit and delete above program"
   ]
  },
  {
   "cell_type": "code",
   "execution_count": 33,
   "id": "ace3bb49",
   "metadata": {},
   "outputs": [],
   "source": [
    "# Dict inside Dict\n",
    "data = {\n",
    "    'Physics' : {'pract' : 25, 'theo' : 60},\n",
    "    'Chemistry' : {'pract' : 25 , 'theo' : 55},\n",
    "    'Math' : {'pract' : 25 , 'theo' : 67}\n",
    "}"
   ]
  },
  {
   "cell_type": "code",
   "execution_count": 35,
   "id": "3569f4be",
   "metadata": {},
   "outputs": [
    {
     "name": "stdout",
     "output_type": "stream",
     "text": [
      "25\n"
     ]
    }
   ],
   "source": [
    "# pract marks of physics\n",
    "print(data['Physics']['pract'])"
   ]
  },
  {
   "cell_type": "code",
   "execution_count": 2,
   "id": "555d9375",
   "metadata": {},
   "outputs": [
    {
     "name": "stdout",
     "output_type": "stream",
     "text": [
      "Enter n = 2\n",
      "Enter name = Zenith\n",
      "Enter age = 21\n",
      "Enter add = KTM\n",
      "Enter name = Maharjan\n",
      "Enter age = 23\n",
      "Enter add = Teku\n",
      "{1: {'name': 'Zenith', 'age': 21, 'add': 'KTM'}, 2: {'name': 'Maharjan', 'age': 23, 'add': 'Teku'}}\n"
     ]
    }
   ],
   "source": [
    "# WAP to create Dict inside Dict with CRUD\n",
    "data = {}\n",
    "n = int(input(\"Enter n = \"))\n",
    "for i in range(1,n+1):\n",
    "    name = input(\"Enter name = \")\n",
    "    age = int(input(\"Enter age = \"))\n",
    "    add = input(\"Enter add = \")\n",
    "    data[i] = {'name' : name, 'age' : age, 'add' : add}\n",
    "    \n",
    "print(data)"
   ]
  },
  {
   "cell_type": "code",
   "execution_count": null,
   "id": "2148ef63",
   "metadata": {},
   "outputs": [],
   "source": []
  }
 ],
 "metadata": {
  "kernelspec": {
   "display_name": "Python 3 (ipykernel)",
   "language": "python",
   "name": "python3"
  },
  "language_info": {
   "codemirror_mode": {
    "name": "ipython",
    "version": 3
   },
   "file_extension": ".py",
   "mimetype": "text/x-python",
   "name": "python",
   "nbconvert_exporter": "python",
   "pygments_lexer": "ipython3",
   "version": "3.10.9"
  }
 },
 "nbformat": 4,
 "nbformat_minor": 5
}

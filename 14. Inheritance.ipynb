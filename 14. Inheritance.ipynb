{
 "cells": [
  {
   "cell_type": "code",
   "execution_count": 1,
   "id": "7dfec6a0",
   "metadata": {},
   "outputs": [],
   "source": [
    "# class A:\n",
    "#     pass\n",
    "\n",
    "# class B(A):\n",
    "#     pass\n",
    "\n",
    "# obj = B()"
   ]
  },
  {
   "cell_type": "code",
   "execution_count": 16,
   "id": "20730d4d",
   "metadata": {},
   "outputs": [
    {
     "name": "stdout",
     "output_type": "stream",
     "text": [
      "Hello World I am Ram. I am from Kathmandu and I am 30 yours old.\n"
     ]
    }
   ],
   "source": [
    "class Data:\n",
    "    def __init__(self):\n",
    "        self.name = \"Ram\"\n",
    "        self.age = 30\n",
    "        self.add = \"Kathmandu\"\n",
    "        \n",
    "class Info(Data):\n",
    "    def info(self):\n",
    "        print(f\"Hello World I am {self.name}. I am from {self.add} and I am {self.age} yours old.\")\n",
    "\n",
    "obj = Info()\n",
    "obj.info()"
   ]
  },
  {
   "cell_type": "code",
   "execution_count": 3,
   "id": "a01515c2",
   "metadata": {},
   "outputs": [
    {
     "name": "stdout",
     "output_type": "stream",
     "text": [
      "Enter name = Zenith\n",
      "Enter age = 22\n",
      "Enter add = Kathmandu\n",
      "Enter phone = 9803060561\n",
      "Hello World I am Zenith. I am from 22. I am Kathmandu\n",
      "Zenith 22 Kathmandu\n",
      "Zenith 22 Kathmandu 9803060561\n"
     ]
    }
   ],
   "source": [
    "class Data:                                  # Parent Class\n",
    "    def __init__(self,name,age,add):\n",
    "        self.name = name\n",
    "        self.age = age\n",
    "        self.add = add\n",
    "        \n",
    "    def data(self):\n",
    "        print(self.name,self.age,self.add)\n",
    "        \n",
    "class Info(Data):                             # Child Class\n",
    "    def __init__(self,name,age,add,phone):\n",
    "        self.phone = phone\n",
    "        Data.__init__(self,name,age,add)\n",
    "        \n",
    "    def info(self):\n",
    "        print(f\"Hello World I am {self.name}. I am from {self.age}. I am {self.add}\")\n",
    "        \n",
    "name = input(\"Enter name = \")\n",
    "age = int(input(\"Enter age = \"))\n",
    "add = input(\"Enter add = \")\n",
    "phone = input(\"Enter phone = \")\n",
    "\n",
    "obj = Info(name,age,add,phone)\n",
    "obj.info()\n",
    "obj.data()\n",
    "print(obj.name,obj.age,obj.add,obj.phone)"
   ]
  },
  {
   "cell_type": "code",
   "execution_count": 6,
   "id": "697b8b20",
   "metadata": {},
   "outputs": [],
   "source": [
    "# Multilevel Inheritance\n",
    "\n",
    "# class A:\n",
    "#     pass\n",
    "\n",
    "# class B(A):\n",
    "#     pass\n",
    "\n",
    "# class C(B):\n",
    "#     pass\n",
    "\n",
    "# obj = C()"
   ]
  },
  {
   "cell_type": "code",
   "execution_count": 15,
   "id": "b807ef75",
   "metadata": {},
   "outputs": [
    {
     "name": "stdout",
     "output_type": "stream",
     "text": [
      "Hello World I am Zenith. I am from 22. I am Dalachhi\n",
      "Zenith 22 Dalachhi\n",
      "Hello World I am from Dalachhi\n",
      "Zenith 22 Dalachhi 9864241767\n"
     ]
    }
   ],
   "source": [
    "# Multilevel Inheritance\n",
    "\n",
    "class Address:\n",
    "    def __init__(self,add):\n",
    "        self.add = add\n",
    "        \n",
    "    def address(self):\n",
    "        print(f\"Hello World I am from {self.add}\")\n",
    "\n",
    "class Data(Address):\n",
    "    def __init__(self,name,age,add):\n",
    "        self.name = name\n",
    "        self.age = age\n",
    "        Address.__init__(self,add)\n",
    "        \n",
    "    def data(self):\n",
    "        print(self.name,self.age,self.add)\n",
    "        \n",
    "class Info(Data):\n",
    "    def __init__(self,name,age,add,phone):\n",
    "        self.phone = phone\n",
    "        Data.__init__(self,name,age,add)\n",
    "        \n",
    "    def info(self):\n",
    "        print(f\"Hello World I am {self.name}. I am from {self.age}. I am {self.add}\")\n",
    "\n",
    "obj = Info('Zenith',22,'Dalachhi','9864241767')\n",
    "obj.info()\n",
    "obj.data()\n",
    "obj.address()\n",
    "print(obj.name,obj.age,obj.add,obj.phone)"
   ]
  },
  {
   "cell_type": "code",
   "execution_count": null,
   "id": "cbd036c0",
   "metadata": {},
   "outputs": [],
   "source": [
    "class A:\n",
    "    def __init__(self):\n",
    "        self.name = \"Ram\"\n",
    "        \n",
    "class B(A):\n",
    "    def __init__(self):\n",
    "        self.age = 78\n",
    "        A.__init__(self)\n",
    "        \n",
    "class C(B):\n",
    "    def __init__(self):\n",
    "        self.add = \"Kathmandu\"\n",
    "        B.__init__(self)\n",
    "        \n",
    "    def info(self):\n",
    "        print(f\"Hello World I am {self.name}. I am from {self.add} and I am {self.age} yours old.\")\n",
    "\n",
    "obj = C()\n",
    "obj.info()\n",
    "    "
   ]
  },
  {
   "cell_type": "code",
   "execution_count": 7,
   "id": "4842f811",
   "metadata": {},
   "outputs": [],
   "source": [
    "# Multiple Inheritance\n",
    "\n",
    "# class A:\n",
    "#     pass\n",
    "\n",
    "# class B:\n",
    "#     pass\n",
    "\n",
    "# class C(A,B):\n",
    "#     pass\n",
    "\n",
    "# obj = C()"
   ]
  },
  {
   "cell_type": "code",
   "execution_count": 1,
   "id": "33e217ae",
   "metadata": {},
   "outputs": [],
   "source": [
    "# Private, Public and Protected Members"
   ]
  },
  {
   "cell_type": "code",
   "execution_count": 4,
   "id": "cedee85f",
   "metadata": {},
   "outputs": [
    {
     "name": "stdout",
     "output_type": "stream",
     "text": [
      "Hello World I am Ram. I am from Kathmandu. I am 23\n",
      "Ram 23 Kathmandu\n"
     ]
    }
   ],
   "source": [
    "# Public Members\n",
    "class Info:\n",
    "    def __init__(self):\n",
    "        self.name = 'Ram'\n",
    "        self.age = 23\n",
    "        self.add = 'Kathmandu'\n",
    "    \n",
    "    def info(self):\n",
    "        print(f\"Hello World I am {self.name}. I am from {self.add}. I am {self.age}\")\n",
    "        \n",
    "\n",
    "obj = Info()\n",
    "obj.info()\n",
    "print(obj.name,obj.age,obj.add)"
   ]
  },
  {
   "cell_type": "code",
   "execution_count": 6,
   "id": "7e171ba8",
   "metadata": {},
   "outputs": [
    {
     "name": "stdout",
     "output_type": "stream",
     "text": [
      "Hello World I am Ram. I am from Kathmandu. I am 23\n",
      "Ram 23 Kathmandu\n"
     ]
    }
   ],
   "source": [
    "# Protected Members\n",
    "class Info:\n",
    "    def __init__(self):\n",
    "        self._name = 'Ram'\n",
    "        self._age = 23\n",
    "        self._add = 'Kathmandu'\n",
    "    \n",
    "    def info(self):\n",
    "        print(f\"Hello World I am {self._name}. I am from {self._add}. I am {self._age}\")\n",
    "        \n",
    "\n",
    "obj = Info()\n",
    "obj.info()\n",
    "print(obj._name,obj._age,obj._add)"
   ]
  },
  {
   "cell_type": "code",
   "execution_count": 10,
   "id": "cf575e44",
   "metadata": {},
   "outputs": [
    {
     "name": "stdout",
     "output_type": "stream",
     "text": [
      "Hello World I am Ram. I am from Kathmandu. I am 23\n"
     ]
    }
   ],
   "source": [
    "# Private Members\n",
    "\n",
    "class Info:\n",
    "    def __init__(self):\n",
    "        self.__name = 'Ram'\n",
    "        self.__age = 23\n",
    "        self.__add = 'Kathmandu'\n",
    "    \n",
    "    def info(self):\n",
    "        print(f\"Hello World I am {self.__name}. I am from {self.__add}. I am {self.__age}\")\n",
    "        \n",
    "\n",
    "obj = Info()\n",
    "obj.info()"
   ]
  },
  {
   "cell_type": "code",
   "execution_count": 20,
   "id": "4eea14cd",
   "metadata": {},
   "outputs": [
    {
     "name": "stdout",
     "output_type": "stream",
     "text": [
      "Hello World I am Ram. I am from Kathmandu.\n",
      "Ram 30\n"
     ]
    }
   ],
   "source": [
    "class Data:                                  # Parent Class\n",
    "    def __init__(self):\n",
    "        self.name = 'Ram'                    # Public Member\n",
    "        self._age = 30                       # Protected Member\n",
    "        self.__add = 'Kathmandu'             # Private Member\n",
    "        \n",
    "    def data(self):\n",
    "        print(self.name,self._age)\n",
    "        \n",
    "class Info(Data):                             # Child Class\n",
    "    def info(self):\n",
    "        print(f\"Hello World I am {self.name}. I am from {self._Data__add}.\")\n",
    "\n",
    "    def my_data(self):\n",
    "#         Data.data(self)\n",
    "        super().data()\n",
    "        \n",
    "obj = Info()\n",
    "obj.info()\n",
    "obj.my_data()"
   ]
  },
  {
   "cell_type": "code",
   "execution_count": 22,
   "id": "ea269f51",
   "metadata": {},
   "outputs": [
    {
     "name": "stdout",
     "output_type": "stream",
     "text": [
      "Enter name = Zenith\n",
      "Enter age = 23\n",
      "Enter add = Kathmandu\n",
      "Hello World I am Zenith. I am from 23. \n",
      "Zenith 23 Kathmandu\n"
     ]
    }
   ],
   "source": [
    "class Data:                                  # Parent Class\n",
    "    def __init__(self,name,age,add):\n",
    "        self.name = name\n",
    "        self._age = age\n",
    "        self.__add = add\n",
    "        \n",
    "    def data(self):\n",
    "        print(self.name,self._age,self.__add)\n",
    "        \n",
    "class Info(Data):                             # Child Class\n",
    "    def info(self):\n",
    "        print(f\"Hello World I am {self.name}. I am from {self._age}. \")\n",
    "        \n",
    "name = input(\"Enter name = \")\n",
    "age = int(input(\"Enter age = \"))\n",
    "add = input(\"Enter add = \")\n",
    "\n",
    "obj = Info(name,age,add)\n",
    "obj.info()\n",
    "obj.data()"
   ]
  },
  {
   "cell_type": "code",
   "execution_count": 31,
   "id": "5fbaf37d",
   "metadata": {},
   "outputs": [
    {
     "name": "stdout",
     "output_type": "stream",
     "text": [
      "Ram\n",
      "<class '__main__.Info'>\n",
      "Hello World I am Ram. I am from Kathmandu. I am 23\n"
     ]
    }
   ],
   "source": [
    "# Str\n",
    "# Private Members\n",
    "class Info:\n",
    "    def __init__(self):\n",
    "        self.name = 'Ram'\n",
    "        self.age = 23\n",
    "        self.add = 'Kathmandu'\n",
    "            \n",
    "    def __str__(self):\n",
    "        return self.name\n",
    "    \n",
    "    def info(self):\n",
    "        print(f\"Hello World I am {self.name}. I am from {self.add}. I am {self.age}\")\n",
    "        \n",
    "obj = Info()\n",
    "print(obj)\n",
    "print(type(obj))\n",
    "obj.info()\n"
   ]
  },
  {
   "cell_type": "code",
   "execution_count": null,
   "id": "30c1ef51",
   "metadata": {},
   "outputs": [],
   "source": []
  }
 ],
 "metadata": {
  "kernelspec": {
   "display_name": "Python 3 (ipykernel)",
   "language": "python",
   "name": "python3"
  },
  "language_info": {
   "codemirror_mode": {
    "name": "ipython",
    "version": 3
   },
   "file_extension": ".py",
   "mimetype": "text/x-python",
   "name": "python",
   "nbconvert_exporter": "python",
   "pygments_lexer": "ipython3",
   "version": "3.10.9"
  }
 },
 "nbformat": 4,
 "nbformat_minor": 5
}

{
 "cells": [
  {
   "cell_type": "code",
   "execution_count": null,
   "id": "dfd4fa44",
   "metadata": {},
   "outputs": [],
   "source": [
    "# if <condition>:\n",
    "#     <operation>\n",
    "# elif <condition>:\n",
    "#     <operation>\n",
    "# ...\n",
    "# else:\n",
    "#     <opereation>"
   ]
  },
  {
   "cell_type": "code",
   "execution_count": 1,
   "id": "34b802c9",
   "metadata": {},
   "outputs": [],
   "source": [
    "#comparision operator\n",
    "# < > <= >= == != "
   ]
  },
  {
   "cell_type": "code",
   "execution_count": 4,
   "id": "ac3706e3",
   "metadata": {},
   "outputs": [
    {
     "name": "stdout",
     "output_type": "stream",
     "text": [
      "Enter age = 20\n",
      "The age is equal or greater than 18\n"
     ]
    }
   ],
   "source": [
    "age = int(input(\"Enter age = \"))\n",
    "if age >= 18:\n",
    "    print(\"The age is equal or greater than 18\")\n",
    "    \n",
    "else:\n",
    "    print(\"The age is smaller than 18\")"
   ]
  },
  {
   "cell_type": "code",
   "execution_count": 8,
   "id": "5cad60c4",
   "metadata": {},
   "outputs": [
    {
     "data": {
      "text/plain": [
       "True"
      ]
     },
     "execution_count": 8,
     "metadata": {},
     "output_type": "execute_result"
    }
   ],
   "source": [
    "10 % 2 == 0"
   ]
  },
  {
   "cell_type": "code",
   "execution_count": null,
   "id": "a9337a89",
   "metadata": {},
   "outputs": [],
   "source": [
    "a = int(input(\"Enter a = \"))\n",
    "if a % 2 == 0:\n",
    "    print(\"The value of a is even \")\n",
    "else:\n",
    "    print(\"The no is odd \")"
   ]
  },
  {
   "cell_type": "code",
   "execution_count": 13,
   "id": "9f410f28",
   "metadata": {},
   "outputs": [
    {
     "name": "stdout",
     "output_type": "stream",
     "text": [
      "Enter a = 10\n",
      "Enter b = 10\n",
      "Both are equal \n"
     ]
    }
   ],
   "source": [
    "a = int(input(\"Enter a = \"))\n",
    "b = int(input(\"Enter b = \"))\n",
    "if a > b:\n",
    "    print(a,\"is greater \")\n",
    "elif b > a:\n",
    "    print(b, \" is greater \")\n",
    "else:\n",
    "    print(\"Both are equal \")"
   ]
  },
  {
   "cell_type": "code",
   "execution_count": 2,
   "id": "978a80d8",
   "metadata": {},
   "outputs": [
    {
     "name": "stdout",
     "output_type": "stream",
     "text": [
      "Enter physics = 60\n",
      "Enter chemistry = 89\n",
      "Enter math = 90\n",
      "Enter english = 0\n",
      "Enter nepali = 0\n",
      "The Total marks =  239\n",
      "The Per =  47.8\n",
      "The grade =  C\n"
     ]
    }
   ],
   "source": [
    "physics = int(input(\"Enter physics = \"))\n",
    "chemistry = int(input(\"Enter chemistry = \"))\n",
    "math = int(input(\"Enter math = \"))\n",
    "english = int(input(\"Enter english = \"))\n",
    "nepali = int(input(\"Enter nepali = \"))\n",
    "\n",
    "total = physics + chemistry + math + english + nepali\n",
    "\n",
    "per = total/500*100\n",
    "if per >= 80:\n",
    "    grade  = 'A'\n",
    "elif per >= 60:\n",
    "    grade = 'B'\n",
    "elif per >= 45:\n",
    "    grade = 'C'\n",
    "else:\n",
    "    grade = 'F'\n",
    "    \n",
    "print(\"The Total marks = \",total)\n",
    "print(\"The Per = \",per)\n",
    "print(\"The grade = \",grade)"
   ]
  },
  {
   "cell_type": "code",
   "execution_count": 3,
   "id": "ad2c8fe1",
   "metadata": {},
   "outputs": [
    {
     "name": "stdout",
     "output_type": "stream",
     "text": [
      "Enter a = 10\n",
      "Enter b = 3\n",
      "Enter  + or - or * or /    +\n",
      "13\n"
     ]
    }
   ],
   "source": [
    "a = int(input(\"Enter a = \"))\n",
    "b = int(input(\"Enter b = \"))\n",
    "o = input(\"Enter  + or - or * or /    \")\n",
    "if o == '+':\n",
    "    print(a+b)\n",
    "elif o == '-':\n",
    "    print(a-b)\n",
    "elif o == '*':\n",
    "    print(a*b)\n",
    "elif o == '/':\n",
    "    print(a/b)\n",
    "else:\n",
    "    print(\"Invalid operator\")"
   ]
  },
  {
   "cell_type": "code",
   "execution_count": null,
   "id": "55db3c24",
   "metadata": {},
   "outputs": [],
   "source": [
    "# logical operator\n",
    "# and &\n",
    "# 1 * 0 = 0\n",
    "# 0 * 1 = 0\n",
    "# 0 * 0 = 0\n",
    "# 1 * 1 = 1\n",
    "\n",
    "# or |\n",
    "# 1 + 0 = 1\n",
    "# 0 + 1 = 1\n",
    "# 0 + 0 = 0\n",
    "# 1 + 1 = 2"
   ]
  },
  {
   "cell_type": "code",
   "execution_count": 1,
   "id": "dfc37ab7",
   "metadata": {},
   "outputs": [
    {
     "name": "stdout",
     "output_type": "stream",
     "text": [
      "True\n",
      "False\n",
      "False\n",
      "False\n"
     ]
    }
   ],
   "source": [
    "#and\n",
    "print(True and True)\n",
    "print(True and False)\n",
    "print(False and True)\n",
    "print(False and False)"
   ]
  },
  {
   "cell_type": "code",
   "execution_count": 2,
   "id": "91d830a7",
   "metadata": {},
   "outputs": [
    {
     "name": "stdout",
     "output_type": "stream",
     "text": [
      "True\n",
      "True\n",
      "True\n",
      "False\n"
     ]
    }
   ],
   "source": [
    "#or\n",
    "print(True or True)\n",
    "print(True or False)\n",
    "print(False or True)\n",
    "print(False or False)"
   ]
  },
  {
   "cell_type": "code",
   "execution_count": null,
   "id": "7d072959",
   "metadata": {},
   "outputs": [],
   "source": [
    "# And\n",
    "a = int(input(\"Enter a = \"))\n",
    "if a >=0 and a%2 == 0:\n",
    "    print(\"a is + ve and even\")\n",
    "elif a>=0 and a%2 != 0:\n",
    "    print(\"a is + ve and odd\")\n",
    "elif a<0 and a%2 == 0:\n",
    "    print(\"a is - ve and even\")\n",
    "elif a<0 and a%2 != 0:\n",
    "    print(\"a is - ve and odd\")"
   ]
  },
  {
   "cell_type": "code",
   "execution_count": 3,
   "id": "3722db8a",
   "metadata": {},
   "outputs": [
    {
     "name": "stdout",
     "output_type": "stream",
     "text": [
      "Enter physics = 89\n",
      "Enter chemistry = 76\n",
      "Enter math = 89\n",
      "Enter english = 67\n",
      "Enter nepali = 90\n",
      "The Total marks =  411\n",
      "The Per =  82.19999999999999\n",
      "The grade =  A\n"
     ]
    }
   ],
   "source": [
    "physics = int(input(\"Enter physics = \"))\n",
    "chemistry = int(input(\"Enter chemistry = \"))\n",
    "math = int(input(\"Enter math = \"))\n",
    "english = int(input(\"Enter english = \"))\n",
    "nepali = int(input(\"Enter nepali = \"))\n",
    "\n",
    "total = physics + chemistry + math + english + nepali\n",
    "\n",
    "per = total/500*100\n",
    "if (per > 80) or (per == 80):\n",
    "    grade  = 'A'\n",
    "elif (per > 60) or (per == 60):\n",
    "    grade = 'B'\n",
    "elif (per > 45) or (per == 45):\n",
    "    grade = 'C'\n",
    "else:\n",
    "    grade = 'F'\n",
    "    \n",
    "print(\"The Total marks = \",total)\n",
    "print(\"The Per = \",per)\n",
    "print(\"The grade = \",grade)"
   ]
  },
  {
   "cell_type": "code",
   "execution_count": null,
   "id": "be44fc62",
   "metadata": {},
   "outputs": [],
   "source": [
    "physics = int(input(\"Enter physics = \"))\n",
    "chemistry = int(input(\"Enter chemistry = \"))\n",
    "math = int(input(\"Enter math = \"))\n",
    "english = int(input(\"Enter english = \"))\n",
    "nepali = int(input(\"Enter nepali = \"))\n",
    "\n",
    "if physics >=40 and chemistry>= 40 and math >=40 and english>=40 and nepali>=40:\n",
    "    total = physics + chemistry + math + english + nepali\n",
    "    per = total/500*100\n",
    "    if (per > 80) or (per == 80):\n",
    "        grade  = 'A'\n",
    "    elif (per > 60) or (per == 60):\n",
    "        grade = 'B'\n",
    "    elif (per > 45) or (per == 45):\n",
    "        grade = 'C'\n",
    "    else:\n",
    "        grade = 'F'\n",
    "\n",
    "    print(\"The Total marks = \",total)\n",
    "    print(\"The Per = \",per)\n",
    "    print(\"The grade = \",grade)\n",
    "else:\n",
    "    print(\"Fail\")"
   ]
  },
  {
   "cell_type": "code",
   "execution_count": null,
   "id": "3348dc18",
   "metadata": {},
   "outputs": [],
   "source": [
    "# # nested if else\n",
    "# if <condition>:\n",
    "#     if <condition>:\n",
    "#         <operation>\n",
    "#     else:\n",
    "#         <operation>\n",
    "\n",
    "# else:\n",
    "#     if <condition>:\n",
    "#         <operation>\n",
    "#     else:\n",
    "#         <operation>"
   ]
  },
  {
   "cell_type": "code",
   "execution_count": 5,
   "id": "0d2c9f07",
   "metadata": {},
   "outputs": [
    {
     "name": "stdout",
     "output_type": "stream",
     "text": [
      "Enter a = 10\n",
      "Enter b = 0\n",
      "Enter  + or - or * or /    /\n",
      "The value of b can not be zero\n"
     ]
    }
   ],
   "source": [
    "a = int(input(\"Enter a = \"))\n",
    "b = int(input(\"Enter b = \"))\n",
    "o = input(\"Enter  + or - or * or /    \")\n",
    "if o == '+':\n",
    "    print(a+b)\n",
    "elif o == '-':\n",
    "    print(a-b)\n",
    "elif o == '*':\n",
    "    print(a*b)\n",
    "elif o == '/':\n",
    "    if b != 0:\n",
    "        print(a/b)\n",
    "    else:\n",
    "        print(\"The value of b can not be zero\")\n",
    "else:\n",
    "    print(\"Invalid operator\")"
   ]
  },
  {
   "cell_type": "code",
   "execution_count": 7,
   "id": "9c1464a0",
   "metadata": {},
   "outputs": [
    {
     "name": "stdout",
     "output_type": "stream",
     "text": [
      "Enter a = 10\n",
      "Enter b = 3\n",
      "Enter  + or - or * or /    +\n",
      "13\n"
     ]
    }
   ],
   "source": [
    "a = int(input(\"Enter a = \"))\n",
    "b = int(input(\"Enter b = \"))\n",
    "o = input(\"Enter  + or - or * or /    \")\n",
    "if o == '+':\n",
    "    print(a+b)\n",
    "elif o == '-':\n",
    "    print(a-b)\n",
    "elif o == '*':\n",
    "    print(a*b)\n",
    "elif o == '/' and b != 0:\n",
    "    print(a/b)\n",
    "elif o == '/' and b == 0:\n",
    "    print(\"The value of b can not be zero\")\n",
    "else:\n",
    "    print(\"Invalid operator\")"
   ]
  },
  {
   "cell_type": "code",
   "execution_count": null,
   "id": "33f31b59",
   "metadata": {},
   "outputs": [],
   "source": [
    "# And\n",
    "a = int(input(\"Enter a = \"))\n",
    "if a >=0 and a%2 == 0:\n",
    "    print(\"a is + ve and even\")\n",
    "elif a>=0 and a%2 != 0:\n",
    "    print(\"a is + ve and odd\")\n",
    "elif a<0 and a%2 == 0:\n",
    "    print(\"a is - ve and even\")\n",
    "elif a<0 and a%2 != 0:\n",
    "    print(\"a is - ve and odd\")"
   ]
  },
  {
   "cell_type": "code",
   "execution_count": null,
   "id": "3ef4b833",
   "metadata": {},
   "outputs": [],
   "source": [
    "# And\n",
    "a = int(input(\"Enter a = \"))\n",
    "if a >=0:\n",
    "    if a%2 ==0:\n",
    "        print(\"a is + ve and even\")\n",
    "    else:\n",
    "        print(\"a is + ve and odd\")\n",
    "        \n",
    "else:\n",
    "    if a%2 == 0:\n",
    "        print(\"a is - ve and even\")\n",
    "    else:\n",
    "        print(\"a is - ve and odd\")"
   ]
  }
 ],
 "metadata": {
  "kernelspec": {
   "display_name": "Python 3 (ipykernel)",
   "language": "python",
   "name": "python3"
  },
  "language_info": {
   "codemirror_mode": {
    "name": "ipython",
    "version": 3
   },
   "file_extension": ".py",
   "mimetype": "text/x-python",
   "name": "python",
   "nbconvert_exporter": "python",
   "pygments_lexer": "ipython3",
   "version": "3.10.9"
  }
 },
 "nbformat": 4,
 "nbformat_minor": 5
}

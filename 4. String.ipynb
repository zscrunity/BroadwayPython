{
 "cells": [
  {
   "cell_type": "code",
   "execution_count": 1,
   "id": "a6413aa6",
   "metadata": {},
   "outputs": [
    {
     "name": "stdout",
     "output_type": "stream",
     "text": [
      "<class 'str'>\n",
      "<class 'str'>\n",
      "<class 'str'>\n"
     ]
    }
   ],
   "source": [
    "a = 'Hello World'\n",
    "b = \"Hello World\"\n",
    "c = ''''Hello World'''\n",
    "\n",
    "print(type(a))\n",
    "print(type(b))\n",
    "print(type(c))"
   ]
  },
  {
   "cell_type": "code",
   "execution_count": 2,
   "id": "71b8ff95",
   "metadata": {},
   "outputs": [
    {
     "name": "stdout",
     "output_type": "stream",
     "text": [
      "Hello World\n"
     ]
    }
   ],
   "source": [
    "a = 'Hello '\n",
    "b = 'World'\n",
    "c = a + b\n",
    "print(c)"
   ]
  },
  {
   "cell_type": "code",
   "execution_count": 3,
   "id": "d9c34ce9",
   "metadata": {},
   "outputs": [
    {
     "name": "stdout",
     "output_type": "stream",
     "text": [
      "Hello World \n",
      "Hello World \n",
      "\n"
     ]
    }
   ],
   "source": [
    "a = \"Hello World \\n\"\n",
    "print(2*a)"
   ]
  },
  {
   "cell_type": "code",
   "execution_count": 4,
   "id": "8aee2f77",
   "metadata": {},
   "outputs": [
    {
     "name": "stdout",
     "output_type": "stream",
     "text": [
      "Enter a = Hamburger\n",
      "Hamburger\n"
     ]
    }
   ],
   "source": [
    "a = input(\"Enter a = \")\n",
    "print(a)"
   ]
  },
  {
   "cell_type": "code",
   "execution_count": 6,
   "id": "fa19965a",
   "metadata": {},
   "outputs": [
    {
     "name": "stdout",
     "output_type": "stream",
     "text": [
      "H\n",
      "Hello\n",
      "HloWr\n"
     ]
    }
   ],
   "source": [
    "a = \"Hello World\"\n",
    "print(a[0])\n",
    "print(a[0:5])\n",
    "print(a[0:10:2])"
   ]
  },
  {
   "cell_type": "code",
   "execution_count": 7,
   "id": "60d6a888",
   "metadata": {},
   "outputs": [
    {
     "data": {
      "text/plain": [
       "'l'"
      ]
     },
     "execution_count": 7,
     "metadata": {},
     "output_type": "execute_result"
    }
   ],
   "source": [
    "a = \"Hello World\"\n",
    "a[-2]"
   ]
  },
  {
   "cell_type": "code",
   "execution_count": 11,
   "id": "0b4ab428",
   "metadata": {},
   "outputs": [
    {
     "name": "stdout",
     "output_type": "stream",
     "text": [
      "dlroW olleH\n",
      "dlroW olleH\n"
     ]
    }
   ],
   "source": [
    "a = \"Hello World\"\n",
    "print(a[-1:-12:-1])\n",
    "print(a[::-1])"
   ]
  },
  {
   "cell_type": "code",
   "execution_count": 41,
   "id": "bbcf3df7",
   "metadata": {},
   "outputs": [
    {
     "name": "stdout",
     "output_type": "stream",
     "text": [
      "Hello World"
     ]
    }
   ],
   "source": [
    "a = \"Hello World\"\n",
    "l = len(a)\n",
    "for i in range(l):\n",
    "    print(a[i] , end=\"\")"
   ]
  },
  {
   "cell_type": "code",
   "execution_count": 43,
   "id": "d19bd4ec",
   "metadata": {},
   "outputs": [
    {
     "name": "stdout",
     "output_type": "stream",
     "text": [
      "Hello World"
     ]
    }
   ],
   "source": [
    "a = \"Hello World\"\n",
    "l = len(a)\n",
    "i = 0\n",
    "while i<l:\n",
    "    print(a[i], end = \"\")\n",
    "    i = i + 1"
   ]
  },
  {
   "cell_type": "code",
   "execution_count": 17,
   "id": "489be83c",
   "metadata": {},
   "outputs": [
    {
     "name": "stdout",
     "output_type": "stream",
     "text": [
      "Hello World! I am Ram. I am from Kathmandu and I am 34 years old.\n"
     ]
    }
   ],
   "source": [
    "# String Concatination\n",
    "name = \"Ram\"\n",
    "age = 34\n",
    "add = \"Kathmandu\"\n",
    "\n",
    "info = \"Hello World! I am \" + name + \". I am from \" + add + \" and I am \" + str(age) + \" years old.\"\n",
    "print(info)"
   ]
  },
  {
   "cell_type": "code",
   "execution_count": 18,
   "id": "1729e1bb",
   "metadata": {},
   "outputs": [
    {
     "name": "stdout",
     "output_type": "stream",
     "text": [
      "Enter name = Zenith\n",
      "Enter age = 21\n",
      "Enter address = Kathmandu\n",
      "Hello World I am Zenith. I am from Kathmandu. I am 21\n"
     ]
    }
   ],
   "source": [
    "# String Formatting\n",
    "name = input(\"Enter name = \")\n",
    "age = input(\"Enter age = \")\n",
    "add = input(\"Enter address = \")\n",
    "\n",
    "info = f\"Hello World I am {name}. I am from {add}. I am {age}\"\n",
    "print(info)"
   ]
  },
  {
   "cell_type": "code",
   "execution_count": 22,
   "id": "279a7963",
   "metadata": {},
   "outputs": [
    {
     "name": "stdout",
     "output_type": "stream",
     "text": [
      "Enter the no of item ordered = 2\n",
      "Enter item name = Momo\n",
      "Enter price = 100\n",
      "Enter quantity = 2\n",
      "Enter item name = Coke\n",
      "Enter price = 45\n",
      "Enter quantity = 1\n",
      "\n",
      "Name \t Price \t Quantity \t Total\n",
      "Momo \t 100 \t 2 \t\t 200 \n",
      "Coke \t 45 \t 1 \t\t 45 \n",
      " \t\t\t\t 245\n"
     ]
    }
   ],
   "source": [
    "n = int(input(\"Enter the no of item ordered = \"))\n",
    "gt = 0\n",
    "bill = ''\n",
    "i = 0\n",
    "\n",
    "while i<n:\n",
    "    name = input(\"Enter item name = \")\n",
    "    price = int(input(\"Enter price = \"))\n",
    "    qty = int(input(\"Enter quantity = \"))\n",
    "    total = 0\n",
    "    total = price * qty\n",
    "    bill = bill + f\"{name} \\t {price} \\t {qty} \\t\\t {total} \\n\"\n",
    "    gt = gt + total\n",
    "    i = i + 1\n",
    "    \n",
    "print(\"\\nName \\t Price \\t Quantity \\t Total\")\n",
    "print(bill, \"\\t\\t\\t\\t\" , gt)\n"
   ]
  },
  {
   "cell_type": "code",
   "execution_count": 28,
   "id": "a75df1d9",
   "metadata": {},
   "outputs": [
    {
     "name": "stdout",
     "output_type": "stream",
     "text": [
      "Enter name = Sabin\n",
      "There is no Sabin\n"
     ]
    }
   ],
   "source": [
    "# Search\n",
    "a = \"Ram Shyam Hari Sita Nabin Ram Akash\"\n",
    "name = input(\"Enter name = \")\n",
    "if name in a:\n",
    "    print(\"Yes\")\n",
    "    print(a.count(name))\n",
    "else:\n",
    "    print(\"There is no\",name)"
   ]
  },
  {
   "cell_type": "code",
   "execution_count": 29,
   "id": "e303b54e",
   "metadata": {},
   "outputs": [
    {
     "name": "stdout",
     "output_type": "stream",
     "text": [
      "RAM SHYAM HARI SITA NABIN RAM AKASH\n"
     ]
    }
   ],
   "source": [
    "a = \"Ram Shyam Hari Sita Nabin Ram Akash\"\n",
    "print(a.upper())"
   ]
  },
  {
   "cell_type": "code",
   "execution_count": 30,
   "id": "1e746188",
   "metadata": {},
   "outputs": [
    {
     "name": "stdout",
     "output_type": "stream",
     "text": [
      "Enter name = ram\n",
      "Yes\n",
      "2\n"
     ]
    }
   ],
   "source": [
    "# Search\n",
    "a = \"Ram Shyam Hari Sita Nabin Ram Akash\".lower()\n",
    "name = input(\"Enter name = \").lower()\n",
    "if name in a:\n",
    "    print(\"Yes\")\n",
    "    print(a.count(name))\n",
    "else:\n",
    "    print(\"There is no\",name)"
   ]
  },
  {
   "cell_type": "code",
   "execution_count": 38,
   "id": "83495f53",
   "metadata": {},
   "outputs": [
    {
     "name": "stdout",
     "output_type": "stream",
     "text": [
      "ram Shyam Hari Sita Nabin ram Akash ramesh\n",
      "ram Shyam Hari Sita Nabin ram Akash ramesh\n",
      "Shyam Hari Sita Nabin Akash Ramesh\n"
     ]
    }
   ],
   "source": [
    "# Replace\n",
    "a = \"Ram Shyam Hari Sita Nabin Ram Akash Ramesh\"\n",
    "print(a.replace(\"Ram\",\"ram\"))\n",
    "print(a.replace(\"Ram\",\"ram\"))\n",
    "print(a.replace(\"Ram \",\"\"))"
   ]
  },
  {
   "cell_type": "code",
   "execution_count": 39,
   "id": "b6af1f13",
   "metadata": {},
   "outputs": [
    {
     "data": {
      "text/plain": [
       "' Ram Shyam Hari Sita Nabin Ram Akash'"
      ]
     },
     "execution_count": 39,
     "metadata": {},
     "output_type": "execute_result"
    }
   ],
   "source": [
    "# title() \n",
    "a = \" ram shyam hari sita nabin ram akash\"\n",
    "a.title()"
   ]
  },
  {
   "cell_type": "code",
   "execution_count": 40,
   "id": "9c7c49c5",
   "metadata": {},
   "outputs": [
    {
     "data": {
      "text/plain": [
       "['ram', 'shyam', 'hari', 'sita', 'nabin', 'ram', 'akash']"
      ]
     },
     "execution_count": 40,
     "metadata": {},
     "output_type": "execute_result"
    }
   ],
   "source": [
    "# split()\n",
    "a = \" ram shyam hari sita nabin ram akash\"\n",
    "a.split()"
   ]
  },
  {
   "cell_type": "code",
   "execution_count": null,
   "id": "8b6695b6",
   "metadata": {},
   "outputs": [],
   "source": []
  }
 ],
 "metadata": {
  "kernelspec": {
   "display_name": "Python 3 (ipykernel)",
   "language": "python",
   "name": "python3"
  },
  "language_info": {
   "codemirror_mode": {
    "name": "ipython",
    "version": 3
   },
   "file_extension": ".py",
   "mimetype": "text/x-python",
   "name": "python",
   "nbconvert_exporter": "python",
   "pygments_lexer": "ipython3",
   "version": "3.10.9"
  }
 },
 "nbformat": 4,
 "nbformat_minor": 5
}

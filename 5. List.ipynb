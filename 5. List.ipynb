{
 "cells": [
  {
   "cell_type": "code",
   "execution_count": 1,
   "id": "e4148cbe",
   "metadata": {},
   "outputs": [],
   "source": [
    "# Python Collection\n",
    "# - List\n",
    "# - Tuple\n",
    "# - Dictionary\n",
    "# - Set"
   ]
  },
  {
   "cell_type": "code",
   "execution_count": 2,
   "id": "39fc8883",
   "metadata": {},
   "outputs": [],
   "source": [
    "# list\n",
    "# - Indexing\n",
    "# - Duplicate and Multiple values\n",
    "# - Ordered\n",
    "# - Mutable"
   ]
  },
  {
   "cell_type": "code",
   "execution_count": 3,
   "id": "e5b4f98b",
   "metadata": {},
   "outputs": [],
   "source": [
    "l = list()\n",
    "l = []"
   ]
  },
  {
   "cell_type": "code",
   "execution_count": 4,
   "id": "8bfc5b61",
   "metadata": {},
   "outputs": [
    {
     "name": "stdout",
     "output_type": "stream",
     "text": [
      "<class 'list'>\n",
      "<class 'list'>\n"
     ]
    }
   ],
   "source": [
    "a = [1,2,3,4,5,6,7,8,9]\n",
    "b = [\"Apple\" , \"Ball\" , \"Cat\" , \"Dog\" , \"Elephant\"]\n",
    "print(type(a))\n",
    "print(type(b))"
   ]
  },
  {
   "cell_type": "code",
   "execution_count": 6,
   "id": "7c022241",
   "metadata": {},
   "outputs": [
    {
     "name": "stdout",
     "output_type": "stream",
     "text": [
      "Apple\n",
      "['Apple', 'Ball', 'Cat', 'Dog']\n",
      "['Apple', 'Cat', 'Elephant']\n"
     ]
    }
   ],
   "source": [
    "a = [\"Apple\" , \"Ball\" , \"Cat\" , \"Dog\" , \"Elephant\"]\n",
    "print(a[0])\n",
    "print(a[0:4])\n",
    "print(a[0:5:2])"
   ]
  },
  {
   "cell_type": "code",
   "execution_count": 7,
   "id": "d8841af8",
   "metadata": {},
   "outputs": [
    {
     "data": {
      "text/plain": [
       "['Apple', 'Ball', 'Cat', 'Dog', 'Elephant', 'Fish', 'Apple', 'Ball']"
      ]
     },
     "execution_count": 7,
     "metadata": {},
     "output_type": "execute_result"
    }
   ],
   "source": [
    "a = [\"Apple\" , \"Ball\" , \"Cat\" , \"Dog\" , \"Elephant\" , \"Fish\" , \"Apple\" , \"Ball\"]\n",
    "a"
   ]
  },
  {
   "cell_type": "code",
   "execution_count": 11,
   "id": "e2393c6c",
   "metadata": {},
   "outputs": [
    {
     "name": "stdout",
     "output_type": "stream",
     "text": [
      "[1, 2, 3, 4, 5, 6, 7, 8]\n"
     ]
    }
   ],
   "source": [
    "# +\n",
    "a = [1,2,3,4]\n",
    "b = [5,6,7,8]\n",
    "c = a+b\n",
    "print(c)"
   ]
  },
  {
   "cell_type": "code",
   "execution_count": 12,
   "id": "7e738137",
   "metadata": {},
   "outputs": [
    {
     "name": "stdout",
     "output_type": "stream",
     "text": [
      "[1, 2, 3, 4, 1, 2, 3, 4]\n"
     ]
    }
   ],
   "source": [
    "# *\n",
    "a = [1,2,3,4]\n",
    "b = 2\n",
    "c = a*b\n",
    "print(c)"
   ]
  },
  {
   "cell_type": "code",
   "execution_count": 13,
   "id": "f0e2b80b",
   "metadata": {},
   "outputs": [
    {
     "data": {
      "text/plain": [
       "['Apple', 'Cat', 'Fish', 1, 2, 3, 4, 5]"
      ]
     },
     "execution_count": 13,
     "metadata": {},
     "output_type": "execute_result"
    }
   ],
   "source": [
    "a = [\"Apple\" , \"Cat\" , \"Fish\"]\n",
    "b = [1,2,3,4,5]\n",
    "c= a+b\n",
    "c"
   ]
  },
  {
   "cell_type": "code",
   "execution_count": 18,
   "id": "9d80f624",
   "metadata": {},
   "outputs": [
    {
     "name": "stdout",
     "output_type": "stream",
     "text": [
      "Enter n = 5\n",
      "Enter x = 45\n",
      "Enter x = 12\n",
      "Enter x = 31\n",
      "Enter x = 201\n",
      "Enter x = 222\n",
      "[45, 12, 31, 201, 222]\n",
      "The sum =  511\n",
      "The max =  222\n",
      "The min =  12\n",
      "The average =  102.2\n",
      "[12, 31, 45, 201, 222]\n",
      "[222, 201, 45, 31, 12]\n"
     ]
    }
   ],
   "source": [
    "l = []\n",
    "n = int(input(\"Enter n = \"))\n",
    "for i in range(n):\n",
    "    x = int(input(\"Enter x = \"))\n",
    "    l = l + [x]\n",
    "    \n",
    "print(l)\n",
    "print(\"The sum = \" , sum(l))\n",
    "print(\"The max = \" , max(l))\n",
    "print(\"The min = \", min(l))\n",
    "print(\"The average = \" , sum(l)/n)\n",
    "\n",
    "l.sort()\n",
    "print(l)\n",
    "l.reverse()\n",
    "print(l)"
   ]
  },
  {
   "cell_type": "code",
   "execution_count": 20,
   "id": "c2fac3f7",
   "metadata": {},
   "outputs": [
    {
     "name": "stdout",
     "output_type": "stream",
     "text": [
      "['Apple', 'Apple', 'Fish', 'Fish', 'cat', 'cat']\n"
     ]
    }
   ],
   "source": [
    "a = [\"Apple\" , \"cat\" , \"Fish\" , \"Apple\" , \"cat\" , \"Fish\"]\n",
    "a.sort()\n",
    "print(a)"
   ]
  },
  {
   "cell_type": "code",
   "execution_count": 21,
   "id": "52c2d933",
   "metadata": {},
   "outputs": [
    {
     "name": "stdout",
     "output_type": "stream",
     "text": [
      "Apple\n",
      "Cat\n",
      "Fish\n"
     ]
    }
   ],
   "source": [
    "# Loop in List\n",
    "a = [\"Apple\" , \"Cat\" , \"Fish\"]\n",
    "for i in a:\n",
    "    print(i)"
   ]
  },
  {
   "cell_type": "code",
   "execution_count": 24,
   "id": "eb93cbd5",
   "metadata": {},
   "outputs": [
    {
     "name": "stdout",
     "output_type": "stream",
     "text": [
      "Apple\n",
      "Cat\n",
      "Fish\n"
     ]
    }
   ],
   "source": [
    "i = 0\n",
    "a = [\"Apple\" , \"Cat\" , \"Fish\"]\n",
    "\n",
    "while i < len(a):\n",
    "    print(a[i])\n",
    "    i = i + 1"
   ]
  },
  {
   "cell_type": "code",
   "execution_count": 25,
   "id": "08a92eae",
   "metadata": {},
   "outputs": [],
   "source": [
    "# Insert Values\n",
    "# append() insert() extend()\n",
    "\n",
    "# Delete Values\n",
    "# del remove() pop()"
   ]
  },
  {
   "cell_type": "code",
   "execution_count": 27,
   "id": "b94da5e2",
   "metadata": {},
   "outputs": [
    {
     "name": "stdout",
     "output_type": "stream",
     "text": [
      "['Apple', 'Ball', 'Dog']\n"
     ]
    }
   ],
   "source": [
    "a = []\n",
    "a.append(\"Apple\")\n",
    "a.append(\"Ball\")\n",
    "a.append(\"Dog\")\n",
    "print(a)"
   ]
  },
  {
   "cell_type": "code",
   "execution_count": 29,
   "id": "9375ba0a",
   "metadata": {},
   "outputs": [
    {
     "name": "stdout",
     "output_type": "stream",
     "text": [
      "Enter n = 3\n",
      "Enter x = Apple\n",
      "Enter x = Cat\n",
      "Enter x = Elephant\n",
      "['Apple', 'Cat', 'Elephant']\n"
     ]
    }
   ],
   "source": [
    "l = []\n",
    "n = int(input(\"Enter n = \"))\n",
    "for i in range(n):\n",
    "    x = input(\"Enter x = \")\n",
    "    l.append(x)\n",
    "    \n",
    "print(l)"
   ]
  },
  {
   "cell_type": "code",
   "execution_count": 30,
   "id": "d4aa0bb0",
   "metadata": {},
   "outputs": [
    {
     "data": {
      "text/plain": [
       "['Apple', 'Hamburger', 'Apple', 'Fish', 'Fish', 'cat', 'cat']"
      ]
     },
     "execution_count": 30,
     "metadata": {},
     "output_type": "execute_result"
    }
   ],
   "source": [
    "# insert()\n",
    "a = [\"Apple\" , \"Apple\" , \"Fish\" , \"Fish\" , \"cat\" , \"cat\"]\n",
    "a.insert(1 , \"Hamburger\")\n",
    "a"
   ]
  },
  {
   "cell_type": "code",
   "execution_count": 32,
   "id": "397a5b61",
   "metadata": {},
   "outputs": [
    {
     "data": {
      "text/plain": [
       "[1, 2, 3, 4, 5, 6]"
      ]
     },
     "execution_count": 32,
     "metadata": {},
     "output_type": "execute_result"
    }
   ],
   "source": [
    "# extend()\n",
    "a = [1,2,3]\n",
    "b = [4,5,6]\n",
    "a.extend(b)\n",
    "a"
   ]
  },
  {
   "cell_type": "code",
   "execution_count": 33,
   "id": "2953f89c",
   "metadata": {},
   "outputs": [
    {
     "name": "stdout",
     "output_type": "stream",
     "text": [
      "['Apple', 'Fish', 'Fish', 'Cat', 'Cat']\n"
     ]
    }
   ],
   "source": [
    "# Delete Values\n",
    "# del remove() pop()\n",
    "a = [\"Apple\" , \"Apple\" , \"Fish\" , \"Fish\" , \"Cat\" , \"Cat\"]\n",
    "del a[0]\n",
    "print(a)"
   ]
  },
  {
   "cell_type": "code",
   "execution_count": 35,
   "id": "0f631e18",
   "metadata": {},
   "outputs": [
    {
     "data": {
      "text/plain": [
       "['Fish', 'Cat', 'Cat']"
      ]
     },
     "execution_count": 35,
     "metadata": {},
     "output_type": "execute_result"
    }
   ],
   "source": [
    "a = [\"Apple\" , \"Apple\" , \"Fish\" , \"Fish\" , \"Cat\" , \"Cat\"]\n",
    "del a[0:3]\n",
    "a"
   ]
  },
  {
   "cell_type": "code",
   "execution_count": 37,
   "id": "c29595f0",
   "metadata": {},
   "outputs": [
    {
     "data": {
      "text/plain": [
       "[1, 2, 3, 4, 5, 6, 7, 8, 9]"
      ]
     },
     "execution_count": 37,
     "metadata": {},
     "output_type": "execute_result"
    }
   ],
   "source": [
    "a = [0,1,2,3,4,5,6,7,8,9]\n",
    "a.remove(0)\n",
    "a"
   ]
  },
  {
   "cell_type": "code",
   "execution_count": 39,
   "id": "6e1715a6",
   "metadata": {},
   "outputs": [
    {
     "data": {
      "text/plain": [
       "['Ball', 'Cat', 'Fish']"
      ]
     },
     "execution_count": 39,
     "metadata": {},
     "output_type": "execute_result"
    }
   ],
   "source": [
    "a = [\"Apple\" , \"Ball\" , \"Cat\" , \"Fish\"]\n",
    "a.remove(\"Apple\")\n",
    "a"
   ]
  },
  {
   "cell_type": "code",
   "execution_count": 40,
   "id": "45dbd0bc",
   "metadata": {},
   "outputs": [
    {
     "name": "stdout",
     "output_type": "stream",
     "text": [
      "['Ball', 'Cat', 'Fish', 'Apple']\n",
      "['Ball', 'Cat', 'Fish']\n"
     ]
    }
   ],
   "source": [
    "a = [\"Apple\" , \"Ball\" , \"Cat\" , \"Fish\" , \"Apple\"]\n",
    "a.remove(\"Apple\")\n",
    "print(a)\n",
    "a.remove(\"Apple\")\n",
    "print(a)"
   ]
  },
  {
   "cell_type": "code",
   "execution_count": 41,
   "id": "badecd61",
   "metadata": {},
   "outputs": [
    {
     "name": "stdout",
     "output_type": "stream",
     "text": [
      "['Ball', 'Cat', 'Fish']\n"
     ]
    }
   ],
   "source": [
    "a = [\"Apple\" , \"Ball\" , \"Cat\" , \"Fish\" , \"Apple\"]\n",
    "c = a.count(\"Apple\")\n",
    "for i in range(c):\n",
    "    a.remove(\"Apple\")\n",
    "print(a)"
   ]
  },
  {
   "cell_type": "code",
   "execution_count": 42,
   "id": "20e5baf6",
   "metadata": {},
   "outputs": [
    {
     "name": "stdout",
     "output_type": "stream",
     "text": [
      "['Ball', 'Cat', 'Fish', 'Apple']\n"
     ]
    }
   ],
   "source": [
    "# pop()\n",
    "a = [\"Apple\" , \"Ball\" , \"Cat\" , \"Fish\" , \"Apple\"]\n",
    "a.pop(0)\n",
    "print(a)"
   ]
  },
  {
   "cell_type": "code",
   "execution_count": 1,
   "id": "5aae6196",
   "metadata": {},
   "outputs": [
    {
     "data": {
      "text/plain": [
       "[[1, 2, 3], [4, 5, 6], [7, 8, 9]]"
      ]
     },
     "execution_count": 1,
     "metadata": {},
     "output_type": "execute_result"
    }
   ],
   "source": [
    "# List inside list (nested) list\n",
    "a = [[1,2,3],\n",
    "     [4,5,6],\n",
    "     [7,8,9]]\n",
    "a"
   ]
  },
  {
   "cell_type": "code",
   "execution_count": 4,
   "id": "0b873dfc",
   "metadata": {},
   "outputs": [
    {
     "data": {
      "text/plain": [
       "[1, 2, 3]"
      ]
     },
     "execution_count": 4,
     "metadata": {},
     "output_type": "execute_result"
    }
   ],
   "source": [
    "a[0]"
   ]
  },
  {
   "cell_type": "code",
   "execution_count": 5,
   "id": "4a114e9f",
   "metadata": {},
   "outputs": [
    {
     "data": {
      "text/plain": [
       "1"
      ]
     },
     "execution_count": 5,
     "metadata": {},
     "output_type": "execute_result"
    }
   ],
   "source": [
    "a[0][0]"
   ]
  },
  {
   "cell_type": "code",
   "execution_count": 9,
   "id": "bf3057e6",
   "metadata": {},
   "outputs": [
    {
     "name": "stdout",
     "output_type": "stream",
     "text": [
      "['Ram', 34, 'Kathmandu']\n",
      "Ram\n"
     ]
    }
   ],
   "source": [
    "a = [[\"Ram\" , 34, \"Kathmandu\"],\n",
    "     [\"Shyam\"  , 23 , \"Bhaktapur\"],\n",
    "     [\"Hari\" , 67 , \"Lalitpur\"]]\n",
    "print(a[0])\n",
    "print(a[0][0])"
   ]
  },
  {
   "cell_type": "code",
   "execution_count": 11,
   "id": "64735611",
   "metadata": {},
   "outputs": [
    {
     "name": "stdout",
     "output_type": "stream",
     "text": [
      "Enter n = 2\n",
      "Enter name = Zenith\n",
      "Enter age = 21\n",
      "Enter address = Kathmandu\n",
      "Enter name = Maharjan\n",
      "Enter age = 22\n",
      "Enter address = Dalachhi\n",
      "[['Zenith', 21, 'Kathmandu'], ['Maharjan', 22, 'Dalachhi']]\n"
     ]
    }
   ],
   "source": [
    "l = []\n",
    "n = int(input(\"Enter n = \"))\n",
    "for i in range(n):\n",
    "    name = input(\"Enter name = \")\n",
    "    age = int(input(\"Enter age = \"))\n",
    "    add = input(\"Enter address = \")\n",
    "    info = [name,age,add]\n",
    "    l.append(info)\n",
    "\n",
    "print(l)"
   ]
  },
  {
   "cell_type": "code",
   "execution_count": 15,
   "id": "5752eb67",
   "metadata": {},
   "outputs": [
    {
     "data": {
      "text/plain": [
       "[['Ram', 34, 'Kathmandu'],\n",
       " ['Shyam', 23, 'Bhaktapur'],\n",
       " ['Hari', 67, 'Lalitpur'],\n",
       " ['Nabin', 20, 'Jhapa']]"
      ]
     },
     "execution_count": 15,
     "metadata": {},
     "output_type": "execute_result"
    }
   ],
   "source": [
    "l = [[\"Ram\" , 34, \"Kathmandu\"],\n",
    "     [\"Shyam\"  , 23 , \"Bhaktapur\"],\n",
    "     [\"Hari\" , 67 , \"Lalitpur\"]]\n",
    "l.append([\"Nabin\",20,\"Jhapa\"])\n",
    "l"
   ]
  },
  {
   "cell_type": "code",
   "execution_count": 17,
   "id": "908d90a9",
   "metadata": {},
   "outputs": [
    {
     "data": {
      "text/plain": [
       "[['Rama', 34, 'Chitwan'],\n",
       " ['Shyam', 23, 'Bhaktapur'],\n",
       " ['Hari', 67, 'Lalitpur'],\n",
       " ['Nabin', 20, 'Jhapa']]"
      ]
     },
     "execution_count": 17,
     "metadata": {},
     "output_type": "execute_result"
    }
   ],
   "source": [
    "# Update Value\n",
    "l[0] = ['Rama', 34, 'Chitwan']\n",
    "l"
   ]
  },
  {
   "cell_type": "code",
   "execution_count": 18,
   "id": "cf7fd0a5",
   "metadata": {},
   "outputs": [
    {
     "data": {
      "text/plain": [
       "[['Ram Prasad', 34, 'Chitwan'],\n",
       " ['Shyam', 23, 'Bhaktapur'],\n",
       " ['Hari', 67, 'Lalitpur'],\n",
       " ['Nabin', 20, 'Jhapa']]"
      ]
     },
     "execution_count": 18,
     "metadata": {},
     "output_type": "execute_result"
    }
   ],
   "source": [
    "l[0][0] = \"Ram Prasad\"\n",
    "l"
   ]
  },
  {
   "cell_type": "code",
   "execution_count": 19,
   "id": "5383aab1",
   "metadata": {},
   "outputs": [
    {
     "data": {
      "text/plain": [
       "[['Shyam', 23, 'Bhaktapur'], ['Hari', 67, 'Lalitpur'], ['Nabin', 20, 'Jhapa']]"
      ]
     },
     "execution_count": 19,
     "metadata": {},
     "output_type": "execute_result"
    }
   ],
   "source": [
    "del l[0]\n",
    "l"
   ]
  },
  {
   "cell_type": "code",
   "execution_count": 40,
   "id": "b12e52bd",
   "metadata": {},
   "outputs": [
    {
     "name": "stdout",
     "output_type": "stream",
     "text": [
      "Enter name = ram\n",
      "['Ram', 34, 'Chitwan']\n",
      "It is available\n"
     ]
    }
   ],
   "source": [
    "data = [[\"Ram\" , 34, \"Chitwan\"],\n",
    "        [\"Shyam\" , 78 , \"Bhaktapur\"],\n",
    "        [\"Hari\", 34, \"Lalitpur\"],\n",
    "        [\"Nabin\" , 20 , \"Jhapa\"]]\n",
    "name = input(\"Enter name = \")\n",
    "\n",
    "for i in data:\n",
    "    if i[0].lower() == name.lower():\n",
    "        print(i)\n",
    "        print(\"It is available\")\n",
    "        break\n",
    "else:\n",
    "    print(f\"The name '{name}' is not available\")"
   ]
  },
  {
   "cell_type": "code",
   "execution_count": 49,
   "id": "80e77bdd",
   "metadata": {},
   "outputs": [
    {
     "name": "stdout",
     "output_type": "stream",
     "text": [
      "Enter name = ram\n",
      "['Ram', 34, 'Chitwan']\n",
      "['Ram', 21, 'Kathmandu']\n",
      "2 - Rows found\n"
     ]
    }
   ],
   "source": [
    "data = [[\"Ram\" , 34, \"Chitwan\"],\n",
    "        [\"Shyam\" , 78 , \"Bhaktapur\"],\n",
    "        [\"Hari\", 34, \"Lalitpur\"],\n",
    "        [\"Nabin\" , 20 , \"Jhapa\"],\n",
    "        [\"Ram\" , 21 , \"Kathmandu\"]]\n",
    "name = input(\"Enter name = \")\n",
    "c = 0\n",
    "\n",
    "for i in data:\n",
    "    if i[0].lower() == name.lower():\n",
    "        print(i)\n",
    "        c = c + 1\n",
    "\n",
    "if c == 0:\n",
    "    print(\"No names are found\")\n",
    "else:\n",
    "    print(c, \"- Rows found\")"
   ]
  },
  {
   "cell_type": "code",
   "execution_count": 46,
   "id": "72415d65",
   "metadata": {},
   "outputs": [
    {
     "name": "stdout",
     "output_type": "stream",
     "text": [
      "Yes\n",
      "2\n"
     ]
    }
   ],
   "source": [
    "a = [\"Ram\" , \"Shyam\" , \"Hari\" , \"Ram\"]\n",
    "if \"Ram\" in a:\n",
    "    print(\"Yes\")\n",
    "    print(a.count(\"Ram\"))\n",
    "else:\n",
    "    print(\"No such name is found\")"
   ]
  },
  {
   "cell_type": "code",
   "execution_count": 48,
   "id": "ebf65a70",
   "metadata": {},
   "outputs": [
    {
     "name": "stdout",
     "output_type": "stream",
     "text": [
      "Enter name = Ram\n",
      "['Ram', 34, 'Chitwan']\n",
      "1 - Rows found\n"
     ]
    }
   ],
   "source": [
    "data = [[\"Ram\" , 34, \"Chitwan\"],\n",
    "        [\"Shyam\" , 78 , \"Bhaktapur\"],\n",
    "        [\"Hari\", 34, \"Lalitpur\"],\n",
    "        [\"Nabin\" , 20 , \"Jhapa\"]]\n",
    "name = input(\"Enter name = \")\n",
    "c = 0\n",
    "\n",
    "for i in data:\n",
    "    if name in i:\n",
    "        print(i)\n",
    "        c = c + 1\n",
    "\n",
    "if c == 0:\n",
    "    print(\"No names are found\")\n",
    "else:\n",
    "    print(c, \"- Rows found\")"
   ]
  },
  {
   "cell_type": "code",
   "execution_count": null,
   "id": "d30c2694",
   "metadata": {},
   "outputs": [],
   "source": [
    "# WAP to create matrix taking no of rows, columns and data as input\n",
    "\n",
    "# WAP to convert string into list inside list eg\n",
    "# split()\n",
    "# Apple 300 1 300\n",
    "# Banana 200 2 400\n",
    "#         to\n",
    "#     [['Apple' , 300 , 1 , 300],\n",
    "#      ['Banana' , 200 , 2 , 400]]\n",
    "\n",
    "#WAP to create result management system in list inside list and perform CRUD"
   ]
  },
  {
   "cell_type": "code",
   "execution_count": 1,
   "id": "12b50a42",
   "metadata": {},
   "outputs": [
    {
     "name": "stdout",
     "output_type": "stream",
     "text": [
      "Enter r = 2\n",
      "Enter c = 2\n",
      "Enter value = 12\n",
      "Enter value = 23\n",
      "Enter value = 34\n",
      "Enter value = 45\n",
      "[[12, 23], [34, 45]]\n"
     ]
    }
   ],
   "source": [
    "data = list()\n",
    "r = int(input(\"Enter r = \"))\n",
    "c = int(input(\"Enter c = \"))\n",
    "\n",
    "for i in range(r):\n",
    "    mat = []\n",
    "    for j in range(c):\n",
    "        x = int(input(\"Enter value = \"))\n",
    "        mat.append(x)\n",
    "    data.append(mat)\n",
    "        \n",
    "print(data)"
   ]
  },
  {
   "cell_type": "markdown",
   "id": "a901fead",
   "metadata": {},
   "source": []
  }
 ],
 "metadata": {
  "kernelspec": {
   "display_name": "Python 3 (ipykernel)",
   "language": "python",
   "name": "python3"
  },
  "language_info": {
   "codemirror_mode": {
    "name": "ipython",
    "version": 3
   },
   "file_extension": ".py",
   "mimetype": "text/x-python",
   "name": "python",
   "nbconvert_exporter": "python",
   "pygments_lexer": "ipython3",
   "version": "3.10.9"
  }
 },
 "nbformat": 4,
 "nbformat_minor": 5
}

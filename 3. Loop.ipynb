{
 "cells": [
  {
   "cell_type": "code",
   "execution_count": 1,
   "id": "1a884ac6",
   "metadata": {},
   "outputs": [],
   "source": [
    "# Loop\n",
    "# for Loop\n",
    "# while Loop"
   ]
  },
  {
   "cell_type": "code",
   "execution_count": 2,
   "id": "426b702f",
   "metadata": {},
   "outputs": [],
   "source": [
    "# range(5)                   #0,1,2,3,4\n",
    "# range(1,5)                 #1,2,3,4\n",
    "# range(1,10,2)              #1,3,5,7,9"
   ]
  },
  {
   "cell_type": "code",
   "execution_count": 4,
   "id": "0614e58e",
   "metadata": {},
   "outputs": [
    {
     "name": "stdout",
     "output_type": "stream",
     "text": [
      "Hello World\n",
      "Hello World\n",
      "Hello World\n",
      "Hello World\n",
      "Hello World\n"
     ]
    }
   ],
   "source": [
    "for i in range(5):\n",
    "    print(\"Hello World\")"
   ]
  },
  {
   "cell_type": "code",
   "execution_count": 6,
   "id": "f6633afd",
   "metadata": {},
   "outputs": [
    {
     "name": "stdout",
     "output_type": "stream",
     "text": [
      "1 Hello World\n",
      "2 Hello World\n",
      "3 Hello World\n",
      "4 Hello World\n"
     ]
    }
   ],
   "source": [
    "for i in range(1,5):\n",
    "    print(i,\"Hello World\")"
   ]
  },
  {
   "cell_type": "code",
   "execution_count": 8,
   "id": "b637a6f9",
   "metadata": {},
   "outputs": [
    {
     "name": "stdout",
     "output_type": "stream",
     "text": [
      "1 Hello World\n",
      "3 Hello World\n",
      "5 Hello World\n",
      "7 Hello World\n",
      "9 Hello World\n"
     ]
    }
   ],
   "source": [
    "for i in range(1,10,2):\n",
    "    print(i,\"Hello World\")"
   ]
  },
  {
   "cell_type": "code",
   "execution_count": 10,
   "id": "b748cd06",
   "metadata": {},
   "outputs": [
    {
     "name": "stdout",
     "output_type": "stream",
     "text": [
      "Enter n = 5\n",
      "5\n",
      "10\n",
      "15\n",
      "20\n",
      "25\n",
      "30\n",
      "35\n",
      "40\n",
      "45\n",
      "50\n"
     ]
    }
   ],
   "source": [
    "n = int(input(\"Enter n = \"))\n",
    "for i in range(1,11):\n",
    "    print(n*i)"
   ]
  },
  {
   "cell_type": "code",
   "execution_count": 12,
   "id": "ef66f5fd",
   "metadata": {},
   "outputs": [
    {
     "name": "stdout",
     "output_type": "stream",
     "text": [
      "Enter n = 7\n",
      "7  *  1  =  7\n",
      "7  *  2  =  14\n",
      "7  *  3  =  21\n",
      "7  *  4  =  28\n",
      "7  *  5  =  35\n",
      "7  *  6  =  42\n",
      "7  *  7  =  49\n",
      "7  *  8  =  56\n",
      "7  *  9  =  63\n",
      "7  *  10  =  70\n"
     ]
    }
   ],
   "source": [
    "n = int(input(\"Enter n = \"))\n",
    "for i in range(1,11):\n",
    "    print(n , \" * \" , i , \" = \" , n*i )"
   ]
  },
  {
   "cell_type": "code",
   "execution_count": 15,
   "id": "44b885d3",
   "metadata": {},
   "outputs": [
    {
     "name": "stdout",
     "output_type": "stream",
     "text": [
      "Enter n = 3\n",
      "Enter x = 23\n",
      "Enter x = 23\n",
      "Enter x = 12\n",
      "58\n"
     ]
    }
   ],
   "source": [
    "s = 0\n",
    "n = int(input(\"Enter n = \"))\n",
    "for i in range(n):\n",
    "    x = int(input(\"Enter x = \"))\n",
    "    s = s + x\n",
    "    \n",
    "print(s)"
   ]
  },
  {
   "cell_type": "code",
   "execution_count": 21,
   "id": "d18af0a4",
   "metadata": {},
   "outputs": [
    {
     "name": "stdout",
     "output_type": "stream",
     "text": [
      "Enter n = 2\n",
      "Enter x = Zenith\n",
      "Enter x = Maharjan\n",
      "Zenith Maharjan \n"
     ]
    }
   ],
   "source": [
    "s = ''\n",
    "n = int(input(\"Enter n = \"))\n",
    "for i in range(n):\n",
    "    x = input(\"Enter x = \")\n",
    "    s = s + x + \" \"\n",
    "    \n",
    "print(s)"
   ]
  },
  {
   "cell_type": "code",
   "execution_count": 23,
   "id": "c7bdcee1",
   "metadata": {},
   "outputs": [
    {
     "name": "stdout",
     "output_type": "stream",
     "text": [
      "Enter n = 2\n",
      "Enter name = Zenith\n",
      "Enter phone = 9803060561\n",
      "Enter name = Maharjan\n",
      "Enter phone = 9864241767\n",
      "Zenith 9803060561\n",
      "Maharjan 9864241767\n",
      "\n"
     ]
    }
   ],
   "source": [
    "s = ''\n",
    "n = int(input(\"Enter n = \"))\n",
    "for i in range(n):\n",
    "    name = input(\"Enter name = \")\n",
    "    phone = input(\"Enter phone = \")\n",
    "    s = s + name + \" \" + phone + '\\n'\n",
    "\n",
    "print(s)"
   ]
  },
  {
   "cell_type": "code",
   "execution_count": 25,
   "id": "41cad6f6",
   "metadata": {},
   "outputs": [
    {
     "name": "stdout",
     "output_type": "stream",
     "text": [
      "Enter n = 4\n",
      "24\n"
     ]
    }
   ],
   "source": [
    "p = 1\n",
    "n = int(input(\"Enter n = \"))\n",
    "for i in range(1,n+1):\n",
    "    p = p * i\n",
    "print(p)"
   ]
  },
  {
   "cell_type": "code",
   "execution_count": 2,
   "id": "b57d5cd5",
   "metadata": {},
   "outputs": [],
   "source": [
    "# WAP to create a billing system\n",
    "# name ?\n",
    "# price ?\n",
    "# qty ?\n",
    "# total ?\n",
    "# grand_total ?"
   ]
  },
  {
   "cell_type": "markdown",
   "id": "5fcfad1e",
   "metadata": {},
   "source": []
  },
  {
   "cell_type": "code",
   "execution_count": 3,
   "id": "8c707273",
   "metadata": {},
   "outputs": [
    {
     "name": "stdout",
     "output_type": "stream",
     "text": [
      "Enter the no of item ordered = 2\n",
      "Enter item name = Momo\n",
      "Enter price = 100\n",
      "Enter quantity = 2\n",
      "Enter item name = Coke\n",
      "Enter price = 45\n",
      "Enter quantity = 1\n",
      "\n",
      "Name \t Price \t Quantity \t Total\n",
      "Momo  \t100\t2\t\t200\n",
      "Coke  \t45\t1\t\t45\n",
      " \t\t\t\t 245\n"
     ]
    }
   ],
   "source": [
    "n = int(input(\"Enter the no of item ordered = \"))\n",
    "gt = 0\n",
    "bill = ''\n",
    "\n",
    "for i in range(n):\n",
    "    name = input(\"Enter item name = \")\n",
    "    price = int(input(\"Enter price = \"))\n",
    "    qty = int(input(\"Enter quantity = \"))\n",
    "    total = 0\n",
    "    total = price * qty\n",
    "    bill = bill + name + '  \\t' + str(price) + '\\t' + str(qty) + '\\t\\t' + str(total) + '\\n'\n",
    "    gt = gt + total\n",
    "\n",
    "print(\"\\nName \\t Price \\t Quantity \\t Total\")\n",
    "print(bill, \"\\t\\t\\t\\t\" , gt)\n"
   ]
  },
  {
   "cell_type": "code",
   "execution_count": 5,
   "id": "62ef9db7",
   "metadata": {},
   "outputs": [
    {
     "name": "stdout",
     "output_type": "stream",
     "text": [
      "a\n",
      "p\n",
      "p\n",
      "l\n",
      "e\n"
     ]
    }
   ],
   "source": [
    "# for Loop in str\n",
    "a = 'apple'\n",
    "for i in a:\n",
    "    print(i)"
   ]
  },
  {
   "cell_type": "code",
   "execution_count": 6,
   "id": "bf66dc2d",
   "metadata": {},
   "outputs": [
    {
     "name": "stdout",
     "output_type": "stream",
     "text": [
      "H e l l o   W o r l d .   I   a m   P y t h o n "
     ]
    }
   ],
   "source": [
    "a = 'Hello World. I am Python'\n",
    "for i in a:\n",
    "    print(i, end = ' ')"
   ]
  },
  {
   "cell_type": "code",
   "execution_count": 9,
   "id": "42585c05",
   "metadata": {},
   "outputs": [
    {
     "name": "stdout",
     "output_type": "stream",
     "text": [
      "Hello World I am Python"
     ]
    }
   ],
   "source": [
    "a = 'Hello World. I am Python'\n",
    "for i in a:\n",
    "    if i != '.':\n",
    "        print(i, end = '')"
   ]
  },
  {
   "cell_type": "code",
   "execution_count": 10,
   "id": "832a0c4f",
   "metadata": {},
   "outputs": [],
   "source": [
    "# Control Statements\n",
    "# Continue\n",
    "# Break"
   ]
  },
  {
   "cell_type": "code",
   "execution_count": 11,
   "id": "831b2597",
   "metadata": {},
   "outputs": [
    {
     "name": "stdout",
     "output_type": "stream",
     "text": [
      "0\n",
      "1\n",
      "2\n",
      "3\n",
      "4\n"
     ]
    }
   ],
   "source": [
    "# Break Statement\n",
    "for i in range(10):\n",
    "    if i == 5:\n",
    "        break\n",
    "    print(i)"
   ]
  },
  {
   "cell_type": "code",
   "execution_count": 13,
   "id": "8633baa8",
   "metadata": {},
   "outputs": [
    {
     "name": "stdout",
     "output_type": "stream",
     "text": [
      "Hello World I am Python"
     ]
    }
   ],
   "source": [
    "a = 'Hello World. I am Python'\n",
    "for i in a:\n",
    "    if i == '.':\n",
    "        continue\n",
    "    print(i, end = '')"
   ]
  },
  {
   "cell_type": "code",
   "execution_count": 22,
   "id": "dc341070",
   "metadata": {},
   "outputs": [
    {
     "name": "stdout",
     "output_type": "stream",
     "text": [
      "Enter n = 5\n",
      "The number  5  is  prime\n"
     ]
    }
   ],
   "source": [
    "# WAP to detect if the given no is prime or composite\n",
    "prime = 2,3,5,7,11,13\n",
    "composite = 4,6,8,9,10\n",
    "\n",
    "n = int(input(\"Enter n = \"))\n",
    "number = 'prime'\n",
    "\n",
    "for i in range(2,n):\n",
    "    if  n % i == 0:\n",
    "        number = 'composite'\n",
    "        break\n",
    "\n",
    "print(\"The number \" , n , \" is \" , number)"
   ]
  },
  {
   "cell_type": "code",
   "execution_count": 26,
   "id": "230cb161",
   "metadata": {},
   "outputs": [
    {
     "name": "stdout",
     "output_type": "stream",
     "text": [
      "Enter n = 5\n",
      "The no is prime\n"
     ]
    }
   ],
   "source": [
    "# WAP to detect if the given no is prime or composite\n",
    "# For Else Loop\n",
    "prime = 2,3,5,7,11,13\n",
    "composite = 4,6,8,9,10\n",
    "\n",
    "n = int(input(\"Enter n = \"))\n",
    "\n",
    "for i in range(2,n):\n",
    "    if  n % i == 0:\n",
    "        print(\"The no is Composite \")\n",
    "        break\n",
    "else:\n",
    "    print(\"The no is prime\")"
   ]
  },
  {
   "cell_type": "code",
   "execution_count": 1,
   "id": "f888f2e3",
   "metadata": {},
   "outputs": [],
   "source": [
    "# while <condition>:\n",
    "#     <operations>"
   ]
  },
  {
   "cell_type": "code",
   "execution_count": 2,
   "id": "0b1eb550",
   "metadata": {},
   "outputs": [
    {
     "name": "stdout",
     "output_type": "stream",
     "text": [
      "0 Hello World!\n",
      "1 Hello World!\n",
      "2 Hello World!\n",
      "3 Hello World!\n",
      "4 Hello World!\n"
     ]
    }
   ],
   "source": [
    "a = 0\n",
    "while a < 5:\n",
    "    print(a , \"Hello World!\")\n",
    "    a = a + 1"
   ]
  },
  {
   "cell_type": "code",
   "execution_count": 3,
   "id": "5df7bf89",
   "metadata": {},
   "outputs": [
    {
     "name": "stdout",
     "output_type": "stream",
     "text": [
      "Enter n =5\n",
      "5  *  1  =  5\n",
      "5  *  2  =  10\n",
      "5  *  3  =  15\n",
      "5  *  4  =  20\n",
      "5  *  5  =  25\n",
      "5  *  6  =  30\n",
      "5  *  7  =  35\n",
      "5  *  8  =  40\n",
      "5  *  9  =  45\n",
      "5  *  10  =  50\n"
     ]
    }
   ],
   "source": [
    "i = 1\n",
    "n = int(input(\"Enter n =\"))\n",
    "\n",
    "while i<=10:\n",
    "    print(n , \" * \" , i , \" = \" , n*i)\n",
    "    i = i + 1"
   ]
  },
  {
   "cell_type": "code",
   "execution_count": 4,
   "id": "042c15f7",
   "metadata": {},
   "outputs": [
    {
     "name": "stdout",
     "output_type": "stream",
     "text": [
      "Enter n = 5\n",
      "Enter x = 2\n",
      "Enter x = 1\n",
      "Enter x = 3\n",
      "Enter x = 4\n",
      "Enter x = 5\n",
      "2 1 3 4 5 \n"
     ]
    }
   ],
   "source": [
    "s = ''\n",
    "n = int(input(\"Enter n = \"))\n",
    "i=0\n",
    "\n",
    "while i<n:\n",
    "    x = input(\"Enter x = \")\n",
    "    s = s + x + \" \"\n",
    "    i = i +1\n",
    "    \n",
    "print(s)"
   ]
  },
  {
   "cell_type": "code",
   "execution_count": 5,
   "id": "9f40da04",
   "metadata": {},
   "outputs": [
    {
     "name": "stdout",
     "output_type": "stream",
     "text": [
      "Enter n = 5\n",
      "120\n"
     ]
    }
   ],
   "source": [
    "p = 1\n",
    "n = int(input(\"Enter n = \"))\n",
    "i = 1\n",
    "while i<=n:\n",
    "    p = p * i\n",
    "    i = i + 1\n",
    "print(p)"
   ]
  },
  {
   "cell_type": "code",
   "execution_count": 6,
   "id": "e9cc41ba",
   "metadata": {},
   "outputs": [
    {
     "name": "stdout",
     "output_type": "stream",
     "text": [
      "Enter the no of item ordered = 2\n",
      "Enter item name = Momo\n",
      "Enter price = 100\n",
      "Enter quantity = 2\n",
      "Enter item name = Coke\n",
      "Enter price = 45\n",
      "Enter quantity = 1\n",
      "\n",
      "Name \t Price \t Quantity \t Total\n",
      "Momo  \t100\t2\t\t200\n",
      "Coke  \t45\t1\t\t45\n",
      " \t\t\t\t 245\n"
     ]
    }
   ],
   "source": [
    "n = int(input(\"Enter the no of item ordered = \"))\n",
    "gt = 0\n",
    "bill = ''\n",
    "i = 0\n",
    "\n",
    "while i<n:\n",
    "    name = input(\"Enter item name = \")\n",
    "    price = int(input(\"Enter price = \"))\n",
    "    qty = int(input(\"Enter quantity = \"))\n",
    "    total = 0\n",
    "    total = price * qty\n",
    "    bill = bill + name + '  \\t' + str(price) + '\\t' + str(qty) + '\\t\\t' + str(total) + '\\n'\n",
    "    gt = gt + total\n",
    "    i = i + 1\n",
    "    \n",
    "print(\"\\nName \\t Price \\t Quantity \\t Total\")\n",
    "print(bill, \"\\t\\t\\t\\t\" , gt)\n"
   ]
  },
  {
   "cell_type": "code",
   "execution_count": 7,
   "id": "17394235",
   "metadata": {},
   "outputs": [],
   "source": [
    "# control statements for while Loop\n",
    "# continue\n",
    "# break"
   ]
  },
  {
   "cell_type": "code",
   "execution_count": 8,
   "id": "cf5938a6",
   "metadata": {},
   "outputs": [
    {
     "name": "stdout",
     "output_type": "stream",
     "text": [
      "0 1 2 3 4 "
     ]
    }
   ],
   "source": [
    "# break\n",
    "i = 0\n",
    "while i<10:\n",
    "    if i == 5:\n",
    "        break\n",
    "    print(i, end = \" \")\n",
    "    i = i + 1"
   ]
  },
  {
   "cell_type": "code",
   "execution_count": 1,
   "id": "c50247ac",
   "metadata": {},
   "outputs": [
    {
     "name": "stdout",
     "output_type": "stream",
     "text": [
      "0 1 2 3 4 6 7 8 9 "
     ]
    }
   ],
   "source": [
    "# continue\n",
    "i = 0\n",
    "while i<10:\n",
    "    if i == 5:\n",
    "        i = i + 1\n",
    "        continue\n",
    "    print(i, end = \" \")\n",
    "    i = i + 1"
   ]
  },
  {
   "cell_type": "code",
   "execution_count": 5,
   "id": "051cc3e5",
   "metadata": {},
   "outputs": [
    {
     "name": "stdout",
     "output_type": "stream",
     "text": [
      "Enter n = 5\n",
      "The no is prime\n"
     ]
    }
   ],
   "source": [
    "# WAP to detect if the given no is prime or composite\n",
    "# For Else Loop\n",
    "prime = 2,3,5,7,11,13\n",
    "composite = 4,6,8,9,10\n",
    "\n",
    "n = int(input(\"Enter n = \"))\n",
    "i = 2\n",
    "\n",
    "while i < n:\n",
    "    if  n % i == 0:\n",
    "        print(\"The no is Composite \")\n",
    "        break\n",
    "    i = i + 1\n",
    "else:\n",
    "    print(\"The no is prime\")"
   ]
  },
  {
   "cell_type": "code",
   "execution_count": 6,
   "id": "a4007a23",
   "metadata": {},
   "outputs": [
    {
     "name": "stdout",
     "output_type": "stream",
     "text": [
      "0 0\n",
      "0 1\n",
      "1 0\n",
      "1 1\n"
     ]
    }
   ],
   "source": [
    "# nested for Loop\n",
    "for i in range(2):\n",
    "    for j in range(2):\n",
    "        print(i,j)"
   ]
  },
  {
   "cell_type": "code",
   "execution_count": 7,
   "id": "22670fab",
   "metadata": {},
   "outputs": [
    {
     "name": "stdout",
     "output_type": "stream",
     "text": [
      "      \n",
      "     0\n",
      "    000\n",
      "   00000\n",
      "  0000000\n"
     ]
    }
   ],
   "source": [
    "c = 5\n",
    "for i in range(5):\n",
    "    print(c * \" \" , (2*i-1) * \"0\")\n",
    "    c= c-1"
   ]
  },
  {
   "cell_type": "code",
   "execution_count": 8,
   "id": "7b5b0f18",
   "metadata": {},
   "outputs": [
    {
     "name": "stdout",
     "output_type": "stream",
     "text": [
      "\n",
      "*\n",
      "**\n",
      "***\n",
      "****\n"
     ]
    }
   ],
   "source": [
    "for i in range(5):\n",
    "    print(i * \"*\")"
   ]
  },
  {
   "cell_type": "code",
   "execution_count": null,
   "id": "6fb39d66",
   "metadata": {},
   "outputs": [],
   "source": []
  }
 ],
 "metadata": {
  "kernelspec": {
   "display_name": "Python 3 (ipykernel)",
   "language": "python",
   "name": "python3"
  },
  "language_info": {
   "codemirror_mode": {
    "name": "ipython",
    "version": 3
   },
   "file_extension": ".py",
   "mimetype": "text/x-python",
   "name": "python",
   "nbconvert_exporter": "python",
   "pygments_lexer": "ipython3",
   "version": "3.10.9"
  }
 },
 "nbformat": 4,
 "nbformat_minor": 5
}

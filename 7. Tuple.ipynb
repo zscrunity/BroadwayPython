{
 "cells": [
  {
   "cell_type": "code",
   "execution_count": 1,
   "id": "0cf101ef",
   "metadata": {},
   "outputs": [],
   "source": [
    "# Tuple\n",
    "# - Indexing\n",
    "# - Ordered\n",
    "# - Multiple and Duplicate Data\n",
    "# - Imutable"
   ]
  },
  {
   "cell_type": "code",
   "execution_count": 3,
   "id": "43c9ade5",
   "metadata": {},
   "outputs": [
    {
     "name": "stdout",
     "output_type": "stream",
     "text": [
      "<class 'tuple'>\n",
      "(1, 2, 3, 4, 5, 6, 7, 8, 9)\n"
     ]
    }
   ],
   "source": [
    "a = (1,2,3,4,5,6,7,8,9)\n",
    "print(type(a))\n",
    "print(a)"
   ]
  },
  {
   "cell_type": "code",
   "execution_count": 10,
   "id": "4b117e3f",
   "metadata": {},
   "outputs": [
    {
     "name": "stdout",
     "output_type": "stream",
     "text": [
      "Apple\n",
      "('Apple', 'Ball', 'Cat', 'Fish', 'Goat')\n",
      "('Apple', 'Cat', 'Goat')\n"
     ]
    }
   ],
   "source": [
    "a = (\"Apple\" , \"Ball\" , \"Cat\" , \"Fish\" , \"Goat\")\n",
    "print(a[0])\n",
    "print(a[0:5])\n",
    "print(a[0:5:2])"
   ]
  },
  {
   "cell_type": "code",
   "execution_count": 11,
   "id": "3e4ff594",
   "metadata": {},
   "outputs": [],
   "source": [
    "gender = (\"Male\" , \"Female\" , \"Other\")"
   ]
  },
  {
   "cell_type": "code",
   "execution_count": 16,
   "id": "24d4f1af",
   "metadata": {},
   "outputs": [
    {
     "name": "stdout",
     "output_type": "stream",
     "text": [
      "<class 'int'>\n",
      "<class 'tuple'>\n"
     ]
    }
   ],
   "source": [
    "a = (1)\n",
    "b = (1,)\n",
    "# b = tuple()\n",
    "print(type(a))\n",
    "print(type(b))"
   ]
  },
  {
   "cell_type": "code",
   "execution_count": 17,
   "id": "545e8f0b",
   "metadata": {},
   "outputs": [],
   "source": [
    "# No append() insert() extend()\n",
    "# No update\n",
    "# No sort\n",
    "# No del remove() pop()"
   ]
  },
  {
   "cell_type": "code",
   "execution_count": 20,
   "id": "4c55baed",
   "metadata": {},
   "outputs": [
    {
     "name": "stdout",
     "output_type": "stream",
     "text": [
      "Enter n = 10\n",
      "Enter x = 1\n",
      "Enter x = 2\n",
      "Enter x = 3\n",
      "Enter x = 4\n",
      "Enter x = 5\n",
      "Enter x = 6\n",
      "Enter x = 7\n",
      "Enter x = 8\n",
      "Enter x = 9\n",
      "Enter x = 10\n",
      "(1, 2, 3, 4, 5, 6, 7, 8, 9, 10)\n"
     ]
    }
   ],
   "source": [
    "t = ()\n",
    "n = int(input(\"Enter n = \"))\n",
    "for i in range(n):\n",
    "    x = int(input(\"Enter x = \"))\n",
    "    t = t + (x,)\n",
    "    \n",
    "print(t)"
   ]
  },
  {
   "cell_type": "code",
   "execution_count": 22,
   "id": "eff742aa",
   "metadata": {},
   "outputs": [
    {
     "name": "stdout",
     "output_type": "stream",
     "text": [
      "12\n",
      "1234\n",
      "2188\n"
     ]
    }
   ],
   "source": [
    "a = (234 , 43 , 123 , 12 , 22 , 453 , 12 , 1234 , 55)\n",
    "print(min(a))\n",
    "print(max(a))\n",
    "print(sum(a))"
   ]
  },
  {
   "cell_type": "code",
   "execution_count": 24,
   "id": "76a02dac",
   "metadata": {},
   "outputs": [
    {
     "data": {
      "text/plain": [
       "[234, 43, 123, 12, 22, 453, 12, 1234, 55]"
      ]
     },
     "execution_count": 24,
     "metadata": {},
     "output_type": "execute_result"
    }
   ],
   "source": [
    "a = (234 , 43 , 123 , 12 , 22 , 453 , 12 , 1234 , 55)\n",
    "b = list(a)\n",
    "b"
   ]
  },
  {
   "cell_type": "code",
   "execution_count": 26,
   "id": "f58497bc",
   "metadata": {},
   "outputs": [
    {
     "name": "stdout",
     "output_type": "stream",
     "text": [
      "(43, 123, 12, 22, 453, 12, 1234, 55)\n"
     ]
    }
   ],
   "source": [
    "a = (234 , 43 , 123 , 12 , 22 , 453 , 12 , 1234 , 55)\n",
    "b = list(a)\n",
    "del b[0]\n",
    "a = tuple(b)\n",
    "print(a)"
   ]
  },
  {
   "cell_type": "code",
   "execution_count": 27,
   "id": "5dced39f",
   "metadata": {},
   "outputs": [
    {
     "name": "stdout",
     "output_type": "stream",
     "text": [
      "[(1, 2, 3), (4, 5, 6, 7), (8, 9, 10)]\n"
     ]
    }
   ],
   "source": [
    "# Tuple inside List\n",
    "l = [(1,2,3),\n",
    "     (4,5,6,7),\n",
    "     (8,9,10)]\n",
    "print(l)"
   ]
  },
  {
   "cell_type": "code",
   "execution_count": 28,
   "id": "48ae63c9",
   "metadata": {},
   "outputs": [
    {
     "name": "stdout",
     "output_type": "stream",
     "text": [
      "([1, 2, 3], [4, 5, 6], [7, 8, 9])\n"
     ]
    }
   ],
   "source": [
    "# List inside Tuple\n",
    "t = ([1,2,3],\n",
    "     [4,5,6],\n",
    "     [7,8,9])\n",
    "print(t)"
   ]
  },
  {
   "cell_type": "code",
   "execution_count": 30,
   "id": "4643f4c7",
   "metadata": {},
   "outputs": [
    {
     "name": "stdout",
     "output_type": "stream",
     "text": [
      "((1, 2, 3), (4, 5, 6), (7, 8, 9))\n"
     ]
    }
   ],
   "source": [
    "# Tuple inside Tuple\n",
    "t = ((1,2,3),\n",
    "     (4,5,6),\n",
    "     (7,8,9))\n",
    "print(t)"
   ]
  },
  {
   "cell_type": "code",
   "execution_count": 31,
   "id": "dad1b9bb",
   "metadata": {},
   "outputs": [
    {
     "data": {
      "text/plain": [
       "[[1, 2, 3], [4, 5, 6], [7, 8, 9]]"
      ]
     },
     "execution_count": 31,
     "metadata": {},
     "output_type": "execute_result"
    }
   ],
   "source": [
    "data = []\n",
    "l = list(t)\n",
    "for i in l:\n",
    "    data.append(list(i))\n",
    "    \n",
    "data"
   ]
  },
  {
   "cell_type": "code",
   "execution_count": 3,
   "id": "5d0349b6",
   "metadata": {},
   "outputs": [
    {
     "name": "stdout",
     "output_type": "stream",
     "text": [
      "(('Ram', 34, 'Chitwan'), ('Shyam', 78, 'Bhaktapur'), ('Hari', 34, 'Lalitpur'), ('Nabin', 20, 'Jhapa'))\n"
     ]
    }
   ],
   "source": [
    "# WAP to convert list inside List to tuple inside tuple    \n",
    "data = [[\"Ram\" , 34, \"Chitwan\"],\n",
    "        [\"Shyam\" , 78 , \"Bhaktapur\"],\n",
    "        [\"Hari\", 34, \"Lalitpur\"],\n",
    "        [\"Nabin\" , 20 , \"Jhapa\"]]\n",
    "t = ()\n",
    "for i in data:\n",
    "    t = t + (tuple(i),)\n",
    "    \n",
    "print(t)"
   ]
  },
  {
   "cell_type": "code",
   "execution_count": null,
   "id": "d40d3c15",
   "metadata": {},
   "outputs": [],
   "source": []
  }
 ],
 "metadata": {
  "kernelspec": {
   "display_name": "Python 3 (ipykernel)",
   "language": "python",
   "name": "python3"
  },
  "language_info": {
   "codemirror_mode": {
    "name": "ipython",
    "version": 3
   },
   "file_extension": ".py",
   "mimetype": "text/x-python",
   "name": "python",
   "nbconvert_exporter": "python",
   "pygments_lexer": "ipython3",
   "version": "3.10.9"
  }
 },
 "nbformat": 4,
 "nbformat_minor": 5
}

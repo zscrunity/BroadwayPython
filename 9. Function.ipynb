{
 "cells": [
  {
   "cell_type": "code",
   "execution_count": 1,
   "id": "95b088c5",
   "metadata": {},
   "outputs": [],
   "source": [
    "# Pre Defined Function\n",
    "# print() type() list() tuple() dict() set() bool() str()"
   ]
  },
  {
   "cell_type": "code",
   "execution_count": 2,
   "id": "c777882f",
   "metadata": {},
   "outputs": [],
   "source": [
    "# User Defined Function\n",
    "# def <function_name>():\n",
    "#     <operation>\n",
    "\n",
    "# <function_name>()"
   ]
  },
  {
   "cell_type": "code",
   "execution_count": 3,
   "id": "825bc61a",
   "metadata": {},
   "outputs": [
    {
     "name": "stdout",
     "output_type": "stream",
     "text": [
      "Hello World\n"
     ]
    }
   ],
   "source": [
    "def hello():\n",
    "    print(\"Hello World\")\n",
    "    \n",
    "hello()"
   ]
  },
  {
   "cell_type": "code",
   "execution_count": 5,
   "id": "095c90bd",
   "metadata": {},
   "outputs": [
    {
     "name": "stdout",
     "output_type": "stream",
     "text": [
      "Enter l = 2\n",
      "Enter b = 3\n",
      "Enter h = 4\n",
      "6\n",
      "24\n"
     ]
    }
   ],
   "source": [
    "def cal():\n",
    "    l = int(input(\"Enter l = \"))     # Local Variable\n",
    "    b = int(input(\"Enter b = \"))     # Local Variable\n",
    "    h = int(input(\"Enter h = \"))     # Local Variable\n",
    "    a = l*b                          # Local Variable\n",
    "    v = a*h                          # Local Variable\n",
    "    print(a)\n",
    "    print(v)\n",
    "    \n",
    "cal()"
   ]
  },
  {
   "cell_type": "code",
   "execution_count": 6,
   "id": "a465b26f",
   "metadata": {},
   "outputs": [
    {
     "name": "stdout",
     "output_type": "stream",
     "text": [
      "Enter l = 3\n",
      "Enter b = 4\n",
      "Enter h = 1\n",
      "12\n",
      "12\n"
     ]
    }
   ],
   "source": [
    "l = int(input(\"Enter l = \"))     # Global Variable\n",
    "b = int(input(\"Enter b = \"))     # Global Variable\n",
    "h = int(input(\"Enter h = \"))     # Global Variable\n",
    "\n",
    "def cal():\n",
    "    # global a,v\n",
    "    a = l*b                          # Local Variable\n",
    "    v = a*h                          # Local Variable\n",
    "    print(a)\n",
    "    print(v)\n",
    "    \n",
    "cal()"
   ]
  },
  {
   "cell_type": "code",
   "execution_count": 7,
   "id": "839d37d8",
   "metadata": {},
   "outputs": [],
   "source": [
    "# Function without argument and no return type\n",
    "# Function with argument and no return type\n",
    "# Function without argument and return type\n",
    "# Function with argument and return type"
   ]
  },
  {
   "cell_type": "code",
   "execution_count": 8,
   "id": "40fb278c",
   "metadata": {},
   "outputs": [
    {
     "name": "stdout",
     "output_type": "stream",
     "text": [
      "Enter l = 4\n",
      "Enter b = 5\n",
      "Enter h = 6\n",
      "20\n",
      "120\n"
     ]
    }
   ],
   "source": [
    "# Function without argument and no return type\n",
    "\n",
    "def cal():\n",
    "    l = int(input(\"Enter l = \"))     # Local Variable\n",
    "    b = int(input(\"Enter b = \"))     # Local Variable\n",
    "    h = int(input(\"Enter h = \"))     # Local Variable\n",
    "    a = l*b                          # Local Variable\n",
    "    v = a*h                          # Local Variable\n",
    "    print(a)\n",
    "    print(v)\n",
    "    \n",
    "cal()"
   ]
  },
  {
   "cell_type": "code",
   "execution_count": 10,
   "id": "7d2e3778",
   "metadata": {},
   "outputs": [
    {
     "name": "stdout",
     "output_type": "stream",
     "text": [
      "Enter l = 4\n",
      "Enter b = 5\n",
      "Enter h = 12\n",
      "20\n",
      "240\n"
     ]
    }
   ],
   "source": [
    "# Function with argument and no return type\n",
    "\n",
    "def cal(x,y,z):                  # Parameter   \n",
    "    a = x*y                      # Local Variable\n",
    "    v = a*z                     # Local Variable\n",
    "    print(a)\n",
    "    print(v)\n",
    "\n",
    "l = int(input(\"Enter l = \"))     # Global Variable\n",
    "b = int(input(\"Enter b = \"))     # Global Variable\n",
    "h = int(input(\"Enter h = \"))     # Global Variable\n",
    "\n",
    "cal(l,b,h)                       # l,b,h argument"
   ]
  },
  {
   "cell_type": "code",
   "execution_count": 12,
   "id": "ee297e12",
   "metadata": {},
   "outputs": [
    {
     "name": "stdout",
     "output_type": "stream",
     "text": [
      "Enter l = 4\n",
      "Enter b = 5\n",
      "Enter h = 1\n",
      "The area =  20\n",
      "The volume =  20\n"
     ]
    }
   ],
   "source": [
    "def area(l,b):\n",
    "    a = l * b\n",
    "    print(\"The area = \" ,a)\n",
    "    \n",
    "def volume(l,b,h):\n",
    "    v = l * b * h\n",
    "    print(\"The volume = \" , v)\n",
    "    \n",
    "l = int(input(\"Enter l = \"))     # Global Variable\n",
    "b = int(input(\"Enter b = \"))     # Global Variable\n",
    "h = int(input(\"Enter h = \"))     # Global Variable\n",
    "\n",
    "area(l,b)\n",
    "volume(l,b,h)"
   ]
  },
  {
   "cell_type": "code",
   "execution_count": 13,
   "id": "314b654c",
   "metadata": {},
   "outputs": [
    {
     "name": "stdout",
     "output_type": "stream",
     "text": [
      "C\n",
      "C++\n",
      "C#\n",
      "Java\n",
      "Python\n"
     ]
    }
   ],
   "source": [
    "def language(lan = \"Python\"):\n",
    "    print(lan)\n",
    "    \n",
    "language(\"C\")\n",
    "language(\"C++\")\n",
    "language(\"C#\")\n",
    "language(\"Java\")\n",
    "language()"
   ]
  },
  {
   "cell_type": "code",
   "execution_count": 2,
   "id": "ed5c4a01",
   "metadata": {},
   "outputs": [],
   "source": [
    "# Return Type Function\n"
   ]
  },
  {
   "cell_type": "code",
   "execution_count": 3,
   "id": "7a50843e",
   "metadata": {},
   "outputs": [
    {
     "name": "stdout",
     "output_type": "stream",
     "text": [
      "Hello World\n"
     ]
    }
   ],
   "source": [
    "# Function with Return Type\n",
    "def hello():\n",
    "    return(\"Hello World\")\n",
    "\n",
    "print(hello())"
   ]
  },
  {
   "cell_type": "code",
   "execution_count": 4,
   "id": "1db372f3",
   "metadata": {},
   "outputs": [
    {
     "name": "stdout",
     "output_type": "stream",
     "text": [
      "Hello World\n"
     ]
    }
   ],
   "source": [
    "# Function without argument and return type\n",
    "\n",
    "def hello():\n",
    "    return(\"Hello World\")\n",
    "\n",
    "x = hello()\n",
    "print(x)"
   ]
  },
  {
   "cell_type": "code",
   "execution_count": 6,
   "id": "c4f7f4ce",
   "metadata": {},
   "outputs": [
    {
     "name": "stdout",
     "output_type": "stream",
     "text": [
      "Enter l = 5\n",
      "Enter b = 6\n",
      "Enter h = 7\n",
      "The area =  30\n",
      "The volume =  210\n"
     ]
    }
   ],
   "source": [
    "# Function without argument and return type\n",
    "\n",
    "def cal():\n",
    "    l = int(input(\"Enter l = \"))\n",
    "    b = int(input(\"Enter b = \"))\n",
    "    a = l * b\n",
    "    return a\n",
    "\n",
    "x = cal()\n",
    "h = int(input(\"Enter h = \"))\n",
    "v = x * h\n",
    "\n",
    "print(\"The area = \" ,x)\n",
    "print(\"The volume = \" , v)"
   ]
  },
  {
   "cell_type": "code",
   "execution_count": 19,
   "id": "c84ea775",
   "metadata": {},
   "outputs": [
    {
     "name": "stdout",
     "output_type": "stream",
     "text": [
      "Enter l = 4\n",
      "Enter b = 5\n",
      "Enter h = 6\n",
      "(20, 120)\n",
      "The area =  20\n",
      "The volume =  120\n"
     ]
    }
   ],
   "source": [
    "# Function without argument and return type\n",
    "\n",
    "def cal():\n",
    "    l = int(input(\"Enter l = \"))\n",
    "    b = int(input(\"Enter b = \"))\n",
    "    h = int(input(\"Enter h = \"))\n",
    "    a = l * b\n",
    "    v = a * h\n",
    "    return a,v\n",
    "\n",
    "x = cal()\n",
    "\n",
    "print(x)\n",
    "area,volume = x\n",
    "\n",
    "print(\"The area = \" , area)\n",
    "print(\"The volume = \", volume)"
   ]
  },
  {
   "cell_type": "code",
   "execution_count": 52,
   "id": "843bfc08",
   "metadata": {},
   "outputs": [
    {
     "name": "stdout",
     "output_type": "stream",
     "text": [
      "Enter l = 4\n",
      "Enter b = 5\n",
      "Enter h = 6\n",
      "(20, 120)\n",
      "The area =  20\n",
      "The volume =  120\n"
     ]
    }
   ],
   "source": [
    "# Function with argument and return type\n",
    "\n",
    "def cal(l,b,h):\n",
    "    a = l * b\n",
    "    v = a * h\n",
    "    return a,v\n",
    "\n",
    "l = int(input(\"Enter l = \"))\n",
    "b = int(input(\"Enter b = \"))\n",
    "h = int(input(\"Enter h = \"))\n",
    "x = cal(l,b,h)\n",
    "\n",
    "print(x)\n",
    "area,volume = x\n",
    "\n",
    "print(\"The area = \" , area)\n",
    "print(\"The volume = \", volume)"
   ]
  },
  {
   "cell_type": "code",
   "execution_count": 22,
   "id": "fd730465",
   "metadata": {},
   "outputs": [
    {
     "name": "stdout",
     "output_type": "stream",
     "text": [
      "Hello World\n",
      "Hello World\n"
     ]
    }
   ],
   "source": [
    "# Recursive Function\n",
    "\n",
    "def hello():\n",
    "    print(\"Hello World\")\n",
    "    \n",
    "hello()\n",
    "hello()"
   ]
  },
  {
   "cell_type": "code",
   "execution_count": 23,
   "id": "cf373166",
   "metadata": {},
   "outputs": [
    {
     "name": "stdout",
     "output_type": "stream",
     "text": [
      "Hello World\n",
      "Press enter for more print\n",
      "Hello World\n",
      "Press enter for more print\n",
      "Hello World\n",
      "Press enter for more prints\n"
     ]
    }
   ],
   "source": [
    "def hello():\n",
    "    print(\"Hello World\")\n",
    "    x = input(\"Press enter for more print\")\n",
    "    if x == '':\n",
    "        hello()\n",
    "\n",
    "hello()"
   ]
  },
  {
   "cell_type": "code",
   "execution_count": 24,
   "id": "0caa348b",
   "metadata": {},
   "outputs": [],
   "source": [
    "# Lambda Function\n",
    "# lambda <arguments> : <operation/expression>"
   ]
  },
  {
   "cell_type": "code",
   "execution_count": 25,
   "id": "b7cbe0f5",
   "metadata": {},
   "outputs": [
    {
     "name": "stdout",
     "output_type": "stream",
     "text": [
      "9\n"
     ]
    }
   ],
   "source": [
    "y = lambda x : x**2\n",
    "\n",
    "print(y(3))"
   ]
  },
  {
   "cell_type": "code",
   "execution_count": 26,
   "id": "f2535d7d",
   "metadata": {},
   "outputs": [
    {
     "name": "stdout",
     "output_type": "stream",
     "text": [
      "30\n"
     ]
    }
   ],
   "source": [
    "y = lambda l,b: l * b\n",
    "print(y(5,6))"
   ]
  },
  {
   "cell_type": "code",
   "execution_count": 27,
   "id": "216f15e9",
   "metadata": {},
   "outputs": [
    {
     "name": "stdout",
     "output_type": "stream",
     "text": [
      "hello world\n"
     ]
    }
   ],
   "source": [
    "y = lambda x: x.lower()\n",
    "\n",
    "print(y(\"Hello World\"))"
   ]
  },
  {
   "cell_type": "code",
   "execution_count": 28,
   "id": "7951224e",
   "metadata": {},
   "outputs": [],
   "source": [
    "# Filter, Map"
   ]
  },
  {
   "cell_type": "code",
   "execution_count": 43,
   "id": "b481d823",
   "metadata": {},
   "outputs": [
    {
     "name": "stdout",
     "output_type": "stream",
     "text": [
      "[2, 4, 6, 8, 0]\n"
     ]
    }
   ],
   "source": [
    "a = [1,2,3,4,5,6,7,8,9,0]\n",
    "\n",
    "print(list(filter(lambda x : x % 2 == 0 , a)))"
   ]
  },
  {
   "cell_type": "code",
   "execution_count": 39,
   "id": "b7189f16",
   "metadata": {},
   "outputs": [
    {
     "name": "stdout",
     "output_type": "stream",
     "text": [
      "['CAT', 'FISH']\n"
     ]
    }
   ],
   "source": [
    "a = [\"apple\", \"Ball\" , \"CAT\" , \"Dog\" , \"FISH\"]\n",
    "\n",
    "print(list(filter(lambda x : x.isupper() , a)))"
   ]
  },
  {
   "cell_type": "code",
   "execution_count": 40,
   "id": "1dff901a",
   "metadata": {},
   "outputs": [
    {
     "name": "stdout",
     "output_type": "stream",
     "text": [
      "['Ball', 'CAT', 'Dog', 'FISH']\n"
     ]
    }
   ],
   "source": [
    "a = [\"apple\", \"Ball\" , \"CAT\" , \"Dog\" , \"FISH\"]\n",
    "\n",
    "print(list(filter(lambda x : x[0].isupper() , a)))"
   ]
  },
  {
   "cell_type": "code",
   "execution_count": 41,
   "id": "7a3cdcc7",
   "metadata": {},
   "outputs": [
    {
     "name": "stdout",
     "output_type": "stream",
     "text": [
      "['apple', 'ball', 'cat', 'dog', 'fish']\n"
     ]
    }
   ],
   "source": [
    "# Map Function\n",
    "a = [\"Apple\", \"Ball\" , \"CAT\" , \"Dog\" , \"FISH\"]\n",
    "print(list(map(lambda x : x.lower() , a)))\n"
   ]
  },
  {
   "cell_type": "code",
   "execution_count": 42,
   "id": "b5baec9a",
   "metadata": {},
   "outputs": [
    {
     "name": "stdout",
     "output_type": "stream",
     "text": [
      "[2, 3, 4, 5, 6, 7, 8, 9, 10]\n"
     ]
    }
   ],
   "source": [
    "a = [1,2,3,4,5,6,7,8,9]\n",
    "print(list(map(lambda x : x + 1 ,a)))"
   ]
  },
  {
   "cell_type": "code",
   "execution_count": 45,
   "id": "1f23c659",
   "metadata": {},
   "outputs": [],
   "source": [
    "# WAP to create basic calculator using return type function\n",
    "# WAP to create billing system using function\n",
    "# WAP to remove ',' from the following list\n",
    "# price = ['10,000' , '20,300', '1,00,000','1,19,000']"
   ]
  },
  {
   "cell_type": "code",
   "execution_count": 50,
   "id": "18849bf3",
   "metadata": {},
   "outputs": [
    {
     "name": "stdout",
     "output_type": "stream",
     "text": [
      "Enter x = 5\n",
      "Enter y = 6\n",
      "Enter operation type = *\n",
      "The * of 5 and 6 is 30\n"
     ]
    }
   ],
   "source": [
    "# WAP to create basic calculator using return type function\n",
    "def calculator(x,y,o):\n",
    "    if o == '+':\n",
    "        return x + y\n",
    "    elif o == '-':\n",
    "        return x - y\n",
    "    elif o == '*':\n",
    "        return x * y\n",
    "    else:\n",
    "        return x / y\n",
    "    \n",
    "x = int(input(\"Enter x = \"))\n",
    "y = int(input(\"Enter y = \"))\n",
    "o = input(\"Enter operation type = \")\n",
    "\n",
    "print(f\"The {o} of {x} and {y} is {calculator(x,y,o)}\")"
   ]
  },
  {
   "cell_type": "code",
   "execution_count": 1,
   "id": "2d5c46b8",
   "metadata": {},
   "outputs": [
    {
     "name": "stdout",
     "output_type": "stream",
     "text": [
      "Enter no of items = 2\n",
      "Enter name = Momo\n",
      "Enter quantity = 2\n",
      "Enter price = 100\n",
      "Enter name = Coke\n",
      "Enter quantity = 1\n",
      "Enter price = 45\n",
      "[['Momo', 2, 100, 200], ['Coke', 1, 45, 45]]\n"
     ]
    }
   ],
   "source": [
    "# WAP to create billing system using function\n",
    "\n",
    "def billing():\n",
    "    n = int(input(\"Enter no of items = \"))\n",
    "    while n != 0:\n",
    "        name,qty,price = insert()\n",
    "        temp = [name,qty,price,qty * price]\n",
    "        bill.append(temp)\n",
    "        n = n-1\n",
    "\n",
    "def insert():\n",
    "    name = input(\"Enter name = \")\n",
    "    qty = int(input(\"Enter quantity = \"))\n",
    "    price = int(input(\"Enter price = \"))\n",
    "    return name,qty,price\n",
    "    \n",
    "bill = []\n",
    "billing()\n",
    "print(bill)"
   ]
  },
  {
   "cell_type": "code",
   "execution_count": 49,
   "id": "65638646",
   "metadata": {},
   "outputs": [
    {
     "name": "stdout",
     "output_type": "stream",
     "text": [
      "['10000', '20300', '100000', '119000']\n"
     ]
    }
   ],
   "source": [
    "# WAP to remove ',' from the following list\n",
    "# price = ['10,000' , '20,300', '1,00,000','1,19,000']\n",
    "\n",
    "price = ['10,000' , '20,300', '1,00,000','1,19,000']\n",
    "print(list(map(lambda x : x.replace(',','') , price)))"
   ]
  }
 ],
 "metadata": {
  "kernelspec": {
   "display_name": "Python 3 (ipykernel)",
   "language": "python",
   "name": "python3"
  },
  "language_info": {
   "codemirror_mode": {
    "name": "ipython",
    "version": 3
   },
   "file_extension": ".py",
   "mimetype": "text/x-python",
   "name": "python",
   "nbconvert_exporter": "python",
   "pygments_lexer": "ipython3",
   "version": "3.10.9"
  }
 },
 "nbformat": 4,
 "nbformat_minor": 5
}
